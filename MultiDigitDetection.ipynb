{
 "cells": [
  {
   "cell_type": "code",
   "execution_count": 1,
   "id": "5cb275ca",
   "metadata": {},
   "outputs": [
    {
     "name": "stdout",
     "output_type": "stream",
     "text": [
      "Shape of training dataset: (60000, 28, 28)\n",
      "Shape of test dataset: (10000, 28, 28)\n",
      "Label for image: 5\n"
     ]
    },
    {
     "data": {
      "image/png": "[encoded data removed]",
      "text/plain": [
       "<Figure size 432x288 with 1 Axes>"
      ]
     },
     "metadata": {
      "needs_background": "light"
     },
     "output_type": "display_data"
    }
   ],
   "source": [
    "#Module Imports\n",
    "from __future__ import print_function\n",
    "import random\n",
    "from os import listdir\n",
    "import glob\n",
    "\n",
    "import numpy as np\n",
    "from scipy import misc\n",
    "import tensorflow as tf\n",
    "import h5py\n",
    "import cv2\n",
    "\n",
    "from keras.datasets import mnist\n",
    "from keras.utils import np_utils\n",
    "\n",
    "import matplotlib.pyplot as plt\n",
    "%matplotlib inline\n",
    "\n",
    "#Setting the random seed so that the results are reproducible. \n",
    "random.seed(101)\n",
    "\n",
    "#Setting variables for MNIST image dimensions\n",
    "mnist_image_height = 28\n",
    "mnist_image_width = 28\n",
    "\n",
    "#Import MNIST data from keras\n",
    "(X_train, y_train), (X_test, y_test) = mnist.load_data()\n",
    "\n",
    "#Checking the downloaded data\n",
    "print(\"Shape of training dataset: {}\".format(np.shape(X_train)))\n",
    "print(\"Shape of test dataset: {}\".format(np.shape(X_test)))\n",
    "\n",
    "\n",
    "plt.figure()\n",
    "plt.imshow(X_train[0], cmap='gray')\n",
    "\n",
    "print(\"Label for image: {}\".format(y_train[0]))"
   ]
  },
  {
   "cell_type": "code",
   "execution_count": 2,
   "id": "e1fa5f23",
   "metadata": {},
   "outputs": [
    {
     "data": {
      "text/plain": [
       "(4, 4, 6, 8, 0)"
      ]
     },
     "execution_count": 2,
     "metadata": {},
     "output_type": "execute_result"
    },
    {
     "data": {
      "image/png": "[encoded data removed]",
      "text/plain": [
       "<Figure size 432x288 with 1 Axes>"
      ]
     },
     "metadata": {
      "needs_background": "light"
     },
     "output_type": "display_data"
    }
   ],
   "source": [
    "def build_synth_data(data,labels,dataset_size):\n",
    "    \n",
    "    #Define synthetic image dimensions\n",
    "    synth_img_height = 64\n",
    "    synth_img_width = 64\n",
    "    \n",
    "    #Define synthetic data\n",
    "    synth_data = np.ndarray(shape=(dataset_size,synth_img_height,synth_img_width),\n",
    "                           dtype=np.float32)\n",
    "    \n",
    "    #Define synthetic labels\n",
    "    synth_labels = [] \n",
    "    \n",
    "    #For a loop till the size of the synthetic dataset\n",
    "    for i in range(0,dataset_size):\n",
    "        \n",
    "        #Pick a random number of digits to be in the dataset\n",
    "        num_digits = random.randint(1,5)\n",
    "        \n",
    "        #Randomly sampling indices to extract digits + labels afterwards\n",
    "        s_indices = [random.randint(0,len(data)-1) for p in range(0,num_digits)]\n",
    "        \n",
    "        #stitch images together\n",
    "        new_image = np.hstack([X_train[index] for index in s_indices])\n",
    "        #stitch the labels together\n",
    "        new_label =  [y_train[index] for index in s_indices]\n",
    "        \n",
    "        \n",
    "        #Loop till number of digits - 5, to concatenate blanks images, and blank labels together\n",
    "        for j in range(0,5-num_digits):\n",
    "            new_image = np.hstack([new_image,np.zeros(shape=(mnist_image_height,\n",
    "                                                                   mnist_image_width))])\n",
    "            new_label.append(10) #Might need to remove this step\n",
    "        \n",
    "        #Resize image\n",
    "        #new_image = misc.imresize(new_image,(64,64))\n",
    "        new_image = cv2.resize(new_image,(64,64))\n",
    "        \n",
    "        #Assign the image to synth_data\n",
    "        synth_data[i,:,:] = new_image\n",
    "        \n",
    "        #Assign the label to synth_data\n",
    "        synth_labels.append(tuple(new_label))\n",
    "        \n",
    "    \n",
    "    #Return the synthetic dataset\n",
    "    return synth_data,synth_labels\n",
    "\n",
    "#Building the training dataset\n",
    "X_synth_train,y_synth_train = build_synth_data(X_train,y_train,60000)\n",
    "\n",
    "#Building the test dataset\n",
    "X_synth_test,y_synth_test = build_synth_data(X_test,y_test,10000)\n",
    "\n",
    "#checking a sample\n",
    "plt.figure()\n",
    "plt.imshow(X_synth_train[0], cmap='gray')\n",
    "\n",
    "y_synth_train[0]"
   ]
  },
  {
   "cell_type": "code",
   "execution_count": 8,
   "id": "12919a28",
   "metadata": {},
   "outputs": [
    {
     "data": {
      "text/plain": [
       "(60000, 11)"
      ]
     },
     "execution_count": 8,
     "metadata": {},
     "output_type": "execute_result"
    }
   ],
   "source": [
    "#Converting labels to One-hot representations of shape (set_size,digits,classes)\n",
    "possible_classes = 11\n",
    "\n",
    "def convert_labels(labels):\n",
    "    \n",
    "    #As per Keras conventions, the multiple labels need to be of the form [array_digit1,...5]\n",
    "    #Each digit array will be of shape (60000,11)\n",
    "    \n",
    "    #Code below could be better, but cba for now. \n",
    "    \n",
    "    #Declare output ndarrays\n",
    "    dig0_arr = np.ndarray(shape=(len(labels),possible_classes))\n",
    "    dig1_arr = np.ndarray(shape=(len(labels),possible_classes))\n",
    "    dig2_arr = np.ndarray(shape=(len(labels),possible_classes))\n",
    "    dig3_arr = np.ndarray(shape=(len(labels),possible_classes)) #5 for digits, 11 for possible classes  \n",
    "    dig4_arr = np.ndarray(shape=(len(labels),possible_classes))\n",
    "    \n",
    "    for index,label in enumerate(labels):\n",
    "        \n",
    "        #Using np_utils from keras to OHE the labels in the image\n",
    "        dig0_arr[index,:] = np_utils.to_categorical(label[0],possible_classes)\n",
    "        dig1_arr[index,:] = np_utils.to_categorical(label[1],possible_classes)\n",
    "        dig2_arr[index,:] = np_utils.to_categorical(label[2],possible_classes)\n",
    "        dig3_arr[index,:] = np_utils.to_categorical(label[3],possible_classes)\n",
    "        dig4_arr[index,:] = np_utils.to_categorical(label[4],possible_classes)\n",
    "        \n",
    "    return [dig0_arr,dig1_arr,dig2_arr,dig3_arr,dig4_arr]\n",
    "\n",
    "train_labels = convert_labels(y_synth_train)\n",
    "test_labels = convert_labels(y_synth_test)\n",
    "\n",
    "#Checking the shape of the OHE array for the first digit position\n",
    "np.shape(train_labels[0])"
   ]
  },
  {
   "cell_type": "code",
   "execution_count": 9,
   "id": "08cf5ae2",
   "metadata": {},
   "outputs": [
    {
     "data": {
      "text/plain": [
       "(60000, 64, 64, 1)"
      ]
     },
     "execution_count": 9,
     "metadata": {},
     "output_type": "execute_result"
    }
   ],
   "source": [
    "def prep_data_keras(img_data):\n",
    "    \n",
    "    #Reshaping data for keras, with tensorflow as backend\n",
    "    img_data = img_data.reshape(len(img_data),64,64,1)\n",
    "    \n",
    "    #Converting everything to floats\n",
    "    img_data = img_data.astype('float32')\n",
    "    \n",
    "    #Normalizing values between 0 and 1\n",
    "    img_data /= 255\n",
    "    \n",
    "    return img_data\n",
    "\n",
    "train_images = prep_data_keras(X_synth_train)\n",
    "test_images = prep_data_keras(X_synth_test)\n",
    "\n",
    "np.shape(train_images)"
   ]
  },
  {
   "cell_type": "code",
   "execution_count": 10,
   "id": "c6c72319",
   "metadata": {},
   "outputs": [
    {
     "name": "stderr",
     "output_type": "stream",
     "text": [
      "2022-08-29 19:51:42.684499: I tensorflow/core/platform/cpu_feature_guard.cc:193] This TensorFlow binary is optimized with oneAPI Deep Neural Network Library (oneDNN) to use the following CPU instructions in performance-critical operations:  AVX2 FMA\n",
      "To enable them in other operations, rebuild TensorFlow with the appropriate compiler flags.\n"
     ]
    },
    {
     "name": "stdout",
     "output_type": "stream",
     "text": [
      "Epoch 1/12\n",
      "469/469 [==============================] - 16s 31ms/step - loss: 6.8061 - dense_1_loss: 1.8181 - dense_2_loss: 1.7596 - dense_3_loss: 1.3828 - dense_4_loss: 0.9795 - dense_5_loss: 0.8662 - dense_1_accuracy: 0.3426 - dense_2_accuracy: 0.3794 - dense_3_accuracy: 0.5329 - dense_4_accuracy: 0.6741 - dense_5_accuracy: 0.7962 - val_loss: 4.3738 - val_dense_1_loss: 0.9863 - val_dense_2_loss: 1.1406 - val_dense_3_loss: 0.8634 - val_dense_4_loss: 0.6264 - val_dense_5_loss: 0.7571 - val_dense_1_accuracy: 0.7346 - val_dense_2_accuracy: 0.6753 - val_dense_3_accuracy: 0.7613 - val_dense_4_accuracy: 0.8162 - val_dense_5_accuracy: 0.8005\n",
      "Epoch 2/12\n",
      "469/469 [==============================] - 17s 35ms/step - loss: 4.8123 - dense_1_loss: 1.1825 - dense_2_loss: 1.2193 - dense_3_loss: 0.9341 - dense_4_loss: 0.6907 - dense_5_loss: 0.7856 - dense_1_accuracy: 0.5847 - dense_2_accuracy: 0.5735 - dense_3_accuracy: 0.6735 - dense_4_accuracy: 0.7591 - dense_5_accuracy: 0.8024 - val_loss: 3.2261 - val_dense_1_loss: 0.6755 - val_dense_2_loss: 0.7801 - val_dense_3_loss: 0.5874 - val_dense_4_loss: 0.4391 - val_dense_5_loss: 0.7439 - val_dense_1_accuracy: 0.8286 - val_dense_2_accuracy: 0.7962 - val_dense_3_accuracy: 0.8464 - val_dense_4_accuracy: 0.8957 - val_dense_5_accuracy: 0.8005\n",
      "Epoch 3/12\n",
      "469/469 [==============================] - 15s 31ms/step - loss: 4.1855 - dense_1_loss: 0.9982 - dense_2_loss: 1.0368 - dense_3_loss: 0.8032 - dense_4_loss: 0.5866 - dense_5_loss: 0.7607 - dense_1_accuracy: 0.6557 - dense_2_accuracy: 0.6390 - dense_3_accuracy: 0.7213 - dense_4_accuracy: 0.7969 - dense_5_accuracy: 0.8028 - val_loss: 2.7124 - val_dense_1_loss: 0.5251 - val_dense_2_loss: 0.6216 - val_dense_3_loss: 0.4837 - val_dense_4_loss: 0.3452 - val_dense_5_loss: 0.7368 - val_dense_1_accuracy: 0.8619 - val_dense_2_accuracy: 0.8368 - val_dense_3_accuracy: 0.8704 - val_dense_4_accuracy: 0.9169 - val_dense_5_accuracy: 0.8005\n",
      "Epoch 4/12\n",
      "469/469 [==============================] - 17s 37ms/step - loss: 3.8599 - dense_1_loss: 0.8987 - dense_2_loss: 0.9452 - dense_3_loss: 0.7372 - dense_4_loss: 0.5275 - dense_5_loss: 0.7513 - dense_1_accuracy: 0.6947 - dense_2_accuracy: 0.6736 - dense_3_accuracy: 0.7452 - dense_4_accuracy: 0.8169 - dense_5_accuracy: 0.8028 - val_loss: 2.5213 - val_dense_1_loss: 0.4766 - val_dense_2_loss: 0.5613 - val_dense_3_loss: 0.4428 - val_dense_4_loss: 0.3022 - val_dense_5_loss: 0.7385 - val_dense_1_accuracy: 0.8749 - val_dense_2_accuracy: 0.8612 - val_dense_3_accuracy: 0.8861 - val_dense_4_accuracy: 0.9270 - val_dense_5_accuracy: 0.8005\n",
      "Epoch 5/12\n",
      "469/469 [==============================] - 15s 31ms/step - loss: 3.6590 - dense_1_loss: 0.8374 - dense_2_loss: 0.8918 - dense_3_loss: 0.6903 - dense_4_loss: 0.4932 - dense_5_loss: 0.7463 - dense_1_accuracy: 0.7147 - dense_2_accuracy: 0.6932 - dense_3_accuracy: 0.7607 - dense_4_accuracy: 0.8308 - dense_5_accuracy: 0.8028 - val_loss: 2.3600 - val_dense_1_loss: 0.4225 - val_dense_2_loss: 0.5136 - val_dense_3_loss: 0.4029 - val_dense_4_loss: 0.2821 - val_dense_5_loss: 0.7388 - val_dense_1_accuracy: 0.8926 - val_dense_2_accuracy: 0.8749 - val_dense_3_accuracy: 0.8986 - val_dense_4_accuracy: 0.9304 - val_dense_5_accuracy: 0.8005\n",
      "Epoch 6/12\n",
      "469/469 [==============================] - 15s 31ms/step - loss: 3.4918 - dense_1_loss: 0.7806 - dense_2_loss: 0.8436 - dense_3_loss: 0.6522 - dense_4_loss: 0.4707 - dense_5_loss: 0.7447 - dense_1_accuracy: 0.7345 - dense_2_accuracy: 0.7102 - dense_3_accuracy: 0.7737 - dense_4_accuracy: 0.8391 - dense_5_accuracy: 0.8028 - val_loss: 2.1974 - val_dense_1_loss: 0.3820 - val_dense_2_loss: 0.4630 - val_dense_3_loss: 0.3603 - val_dense_4_loss: 0.2553 - val_dense_5_loss: 0.7368 - val_dense_1_accuracy: 0.8990 - val_dense_2_accuracy: 0.8839 - val_dense_3_accuracy: 0.9066 - val_dense_4_accuracy: 0.9364 - val_dense_5_accuracy: 0.8005\n",
      "Epoch 7/12\n",
      "469/469 [==============================] - 14s 30ms/step - loss: 3.3720 - dense_1_loss: 0.7459 - dense_2_loss: 0.8073 - dense_3_loss: 0.6233 - dense_4_loss: 0.4526 - dense_5_loss: 0.7429 - dense_1_accuracy: 0.7493 - dense_2_accuracy: 0.7243 - dense_3_accuracy: 0.7853 - dense_4_accuracy: 0.8447 - dense_5_accuracy: 0.8028 - val_loss: 2.1194 - val_dense_1_loss: 0.3532 - val_dense_2_loss: 0.4402 - val_dense_3_loss: 0.3371 - val_dense_4_loss: 0.2503 - val_dense_5_loss: 0.7387 - val_dense_1_accuracy: 0.9066 - val_dense_2_accuracy: 0.8899 - val_dense_3_accuracy: 0.9139 - val_dense_4_accuracy: 0.9388 - val_dense_5_accuracy: 0.8005\n",
      "Epoch 8/12\n",
      "469/469 [==============================] - 15s 33ms/step - loss: 3.2468 - dense_1_loss: 0.7068 - dense_2_loss: 0.7702 - dense_3_loss: 0.5949 - dense_4_loss: 0.4333 - dense_5_loss: 0.7415 - dense_1_accuracy: 0.7631 - dense_2_accuracy: 0.7393 - dense_3_accuracy: 0.7962 - dense_4_accuracy: 0.8536 - dense_5_accuracy: 0.8028 - val_loss: 2.0003 - val_dense_1_loss: 0.3183 - val_dense_2_loss: 0.3999 - val_dense_3_loss: 0.3134 - val_dense_4_loss: 0.2298 - val_dense_5_loss: 0.7389 - val_dense_1_accuracy: 0.9129 - val_dense_2_accuracy: 0.8982 - val_dense_3_accuracy: 0.9207 - val_dense_4_accuracy: 0.9433 - val_dense_5_accuracy: 0.8005\n",
      "Epoch 9/12\n",
      "469/469 [==============================] - 21s 44ms/step - loss: 3.1505 - dense_1_loss: 0.6786 - dense_2_loss: 0.7361 - dense_3_loss: 0.5761 - dense_4_loss: 0.4188 - dense_5_loss: 0.7410 - dense_1_accuracy: 0.7736 - dense_2_accuracy: 0.7515 - dense_3_accuracy: 0.8037 - dense_4_accuracy: 0.8566 - dense_5_accuracy: 0.8028 - val_loss: 1.9010 - val_dense_1_loss: 0.2944 - val_dense_2_loss: 0.3688 - val_dense_3_loss: 0.2849 - val_dense_4_loss: 0.2151 - val_dense_5_loss: 0.7378 - val_dense_1_accuracy: 0.9171 - val_dense_2_accuracy: 0.9024 - val_dense_3_accuracy: 0.9251 - val_dense_4_accuracy: 0.9452 - val_dense_5_accuracy: 0.8005\n",
      "Epoch 10/12\n",
      "469/469 [==============================] - 17s 37ms/step - loss: 3.0464 - dense_1_loss: 0.6495 - dense_2_loss: 0.7110 - dense_3_loss: 0.5380 - dense_4_loss: 0.4076 - dense_5_loss: 0.7403 - dense_1_accuracy: 0.7840 - dense_2_accuracy: 0.7613 - dense_3_accuracy: 0.8171 - dense_4_accuracy: 0.8624 - dense_5_accuracy: 0.8028 - val_loss: 1.8586 - val_dense_1_loss: 0.2876 - val_dense_2_loss: 0.3541 - val_dense_3_loss: 0.2779 - val_dense_4_loss: 0.2038 - val_dense_5_loss: 0.7354 - val_dense_1_accuracy: 0.9185 - val_dense_2_accuracy: 0.9063 - val_dense_3_accuracy: 0.9268 - val_dense_4_accuracy: 0.9484 - val_dense_5_accuracy: 0.8005\n",
      "Epoch 11/12\n",
      "469/469 [==============================] - 15s 32ms/step - loss: 2.9495 - dense_1_loss: 0.6230 - dense_2_loss: 0.6755 - dense_3_loss: 0.5244 - dense_4_loss: 0.3879 - dense_5_loss: 0.7388 - dense_1_accuracy: 0.7937 - dense_2_accuracy: 0.7752 - dense_3_accuracy: 0.8235 - dense_4_accuracy: 0.8687 - dense_5_accuracy: 0.8028 - val_loss: 1.7814 - val_dense_1_loss: 0.2690 - val_dense_2_loss: 0.3308 - val_dense_3_loss: 0.2578 - val_dense_4_loss: 0.1884 - val_dense_5_loss: 0.7355 - val_dense_1_accuracy: 0.9230 - val_dense_2_accuracy: 0.9110 - val_dense_3_accuracy: 0.9313 - val_dense_4_accuracy: 0.9498 - val_dense_5_accuracy: 0.8005\n",
      "Epoch 12/12\n",
      "469/469 [==============================] - 14s 31ms/step - loss: 2.8863 - dense_1_loss: 0.6009 - dense_2_loss: 0.6564 - dense_3_loss: 0.5057 - dense_4_loss: 0.3846 - dense_5_loss: 0.7388 - dense_1_accuracy: 0.8015 - dense_2_accuracy: 0.7816 - dense_3_accuracy: 0.8292 - dense_4_accuracy: 0.8696 - dense_5_accuracy: 0.8028 - val_loss: 1.7508 - val_dense_1_loss: 0.2615 - val_dense_2_loss: 0.3192 - val_dense_3_loss: 0.2451 - val_dense_4_loss: 0.1897 - val_dense_5_loss: 0.7352 - val_dense_1_accuracy: 0.9250 - val_dense_2_accuracy: 0.9137 - val_dense_3_accuracy: 0.9325 - val_dense_4_accuracy: 0.9514 - val_dense_5_accuracy: 0.8005\n"
     ]
    },
    {
     "data": {
      "text/plain": [
       "<keras.callbacks.History at 0x1265e2d60>"
      ]
     },
     "execution_count": 10,
     "metadata": {},
     "output_type": "execute_result"
    }
   ],
   "source": [
    "\n",
    "#Importing relevant keras modules\n",
    "from keras.models import Sequential, Model\n",
    "from keras.layers import Dense, Dropout, Activation, Flatten, Input\n",
    "from keras.layers import Convolution2D, MaxPooling2D\n",
    "\n",
    "#Building the model\n",
    "\n",
    "batch_size = 128\n",
    "nb_classes = 11\n",
    "nb_epoch = 12\n",
    "\n",
    "#image input dimensions\n",
    "img_rows = 64\n",
    "img_cols = 64\n",
    "img_channels = 1\n",
    "\n",
    "#number of convulation filters to use\n",
    "nb_filters = 32\n",
    "# size of pooling area for max pooling\n",
    "pool_size = (2, 2)\n",
    "# convolution kernel size\n",
    "kernel_size = (3, 3)\n",
    "\n",
    "#defining the input\n",
    "inputs = Input(shape=(img_rows,img_cols,img_channels))\n",
    "\n",
    "#Model taken from keras example. Worked well for a digit, dunno for multiple\n",
    "#cov = Convolution2D(nb_filters,kernel_size[0],kernel_size[1],border_mode='same')(inputs)\n",
    "cov = Convolution2D(nb_filters,kernel_size[0],kernel_size[1])(inputs)\n",
    "cov = Activation('relu')(cov)\n",
    "cov = Convolution2D(nb_filters,kernel_size[0],kernel_size[1])(cov)\n",
    "cov = Activation('relu')(cov)\n",
    "cov = MaxPooling2D(pool_size=pool_size)(cov)\n",
    "cov = Dropout(0.25)(cov)\n",
    "cov_out = Flatten()(cov)\n",
    "\n",
    "\n",
    "#Dense Layers\n",
    "cov2 = Dense(128, activation='relu')(cov_out)\n",
    "cov2 = Dropout(0.5)(cov2)\n",
    "\n",
    "\n",
    "\n",
    "#Prediction layers\n",
    "c0 = Dense(nb_classes, activation='softmax')(cov2)\n",
    "c1 = Dense(nb_classes, activation='softmax')(cov2)\n",
    "c2 = Dense(nb_classes, activation='softmax')(cov2)\n",
    "c3 = Dense(nb_classes, activation='softmax')(cov2)\n",
    "c4 = Dense(nb_classes, activation='softmax')(cov2)\n",
    "\n",
    "#Defining the model\n",
    "model = Model(inputs=inputs, outputs=[c0,c1,c2,c3,c4])\n",
    "\n",
    "#Compiling the model\n",
    "model.compile(loss='categorical_crossentropy',optimizer='adam',metrics=['accuracy'])\n",
    "\n",
    "#Fitting the model\n",
    "model.fit(train_images,train_labels,batch_size=batch_size, epochs=nb_epoch,verbose=1,\n",
    "          validation_data=(test_images, test_labels) )"
   ]
  },
  {
   "cell_type": "code",
   "execution_count": 22,
   "id": "a19b97e5",
   "metadata": {},
   "outputs": [
    {
     "name": "stdout",
     "output_type": "stream",
     "text": [
      "(64, 64)\n",
      "1/1 [==============================] - 0s 33ms/step\n",
      "Digit 1 is:  1\n",
      "Digit 2 is:  3\n",
      "Digit 3 is:  7\n",
      "Digit 4 is:  1\n",
      "Digit 5 is: _\n"
     ]
    },
    {
     "data": {
      "image/png": "[encoded data removed]",
      "text/plain": [
       "<Figure size 432x288 with 1 Axes>"
      ]
     },
     "metadata": {
      "needs_background": "light"
     },
     "output_type": "display_data"
    }
   ],
   "source": [
    "# Load training sample\n",
    "imageTrain = X_synth_train[1]\n",
    "print(imageTrain.shape)\n",
    "# Plot the input image \n",
    "plt.imshow(imageTrain, cmap='gray')\n",
    "\n",
    "# Predict taining sample\n",
    "imageTrain = imageTrain.reshape((1,64,64,1))\n",
    "prediction = model.predict(imageTrain)\n",
    "\n",
    "# Plot results \n",
    "for i in range(0, 5): \n",
    "    digitResult = np.argmax(prediction[i])\n",
    "    if digitResult == 10:\n",
    "        print(\"Digit\", i+1, \"is: _\")\n",
    "    else: \n",
    "        print(\"Digit\", i+1, \"is: \", digitResult+1)"
   ]
  },
  {
   "cell_type": "code",
   "execution_count": 11,
   "id": "b8b03dbd",
   "metadata": {},
   "outputs": [
    {
     "name": "stdout",
     "output_type": "stream",
     "text": [
      "1/1 [==============================] - 0s 158ms/step\n"
     ]
    },
    {
     "data": {
      "image/png": "[encoded data removed]",
      "text/plain": [
       "<Figure size 432x288 with 1 Axes>"
      ]
     },
     "metadata": {
      "needs_background": "light"
     },
     "output_type": "display_data"
    }
   ],
   "source": [
    "# Predict arbitrary sample\n",
    "\n",
    "# Load the image and convert to grayscale \n",
    "image = cv2.imread('testImages/multiDigitSample.jpg')\n",
    "\n",
    "# Grayscale the image\n",
    "image = cv2.cvtColor(image, cv2.COLOR_BGR2GRAY)\n",
    "\n",
    "# Apply THRESHOLDING in order to invert the color space\n",
    "# \n",
    "\n",
    "# Canny image (because the MNIST data samples are \"inverted\" in color space)\n",
    "image = cv2.Canny(image, 100, 200)\n",
    "\n",
    "# Dilate the canny image in order to get more dense digits\n",
    "kernel = np.ones((5,5),np.uint8)\n",
    "image = cv2.dilate(image, kernel, iterations = 3)\n",
    "\n",
    "# Resize the image \n",
    "image = cv2.resize(image, (64,64))\n",
    "\n",
    "# Normalize the image\n",
    "image = image.astype('float32')\n",
    "image /= 255\n",
    "\n",
    "# Plot the input image \n",
    "plt.imshow(image, cmap='gray')\n",
    "\n",
    "# Use (MNIST trained) model in order to predict the number\n",
    "image = image.reshape((1,64,64,1))\n",
    "prediction = model.predict(image)\n",
    "\n",
    "# Plot results \n",
    "for i in range(0, 5): \n",
    "    digitResult = np.argmax(prediction[i])\n",
    "    if digitResult == 10:\n",
    "        print(\"Digit\", i+1, \"is: _\")\n",
    "    else: \n",
    "        print(\"Digit\", i+1, \"is: \", digitResult+1)\n",
    "    "
   ]
  },
  {
   "cell_type": "code",
   "execution_count": null,
   "id": "8324b45e",
   "metadata": {},
   "outputs": [],
   "source": [
    "\n",
    "\n"
   ]
  },
  {
   "cell_type": "code",
   "execution_count": null,
   "id": "f32a706d",
   "metadata": {},
   "outputs": [],
   "source": []
  }
 ],
 "metadata": {
  "kernelspec": {
   "display_name": "Python 3 (ipykernel)",
   "language": "python",
   "name": "python3"
  },
  "language_info": {
   "codemirror_mode": {
    "name": "ipython",
    "version": 3
   },
   "file_extension": ".py",
   "mimetype": "text/x-python",
   "name": "python",
   "nbconvert_exporter": "python",
   "pygments_lexer": "ipython3",
   "version": "3.9.13"
  }
 },
 "nbformat": 4,
 "nbformat_minor": 5
}
