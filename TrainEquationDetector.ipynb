{
 "cells": [
  {
   "cell_type": "code",
   "execution_count": 1,
   "metadata": {},
   "outputs": [],
   "source": [
    "import numpy as np\n",
    "import matplotlib.pyplot as plt\n",
    "import matplotlib.image as mpimg\n",
    "import cv2\n",
    "import math\n",
    "import os\n",
    "import glob\n",
    "import keras\n",
    "\n",
    "from PIL import Image\n",
    "from keras.preprocessing.image import ImageDataGenerator\n",
    "from sklearn.model_selection import train_test_split\n",
    "from tensorflow.keras.layers import Input, Lambda, Dense, Flatten, Dropout, Conv2D, MaxPooling2D\n",
    "from tensorflow.keras.models import Model\n",
    "from tensorflow.keras.models import Sequential\n",
    "from keras.optimizers import SGD"
   ]
  },
  {
   "cell_type": "code",
   "execution_count": 2,
   "metadata": {},
   "outputs": [],
   "source": [
    "# Load and build raw data structures\n",
    "equImages = []\n",
    "equLabels = []\n",
    "equImagesPath = './testImages/class_a'\n",
    "for img in os.listdir(equImagesPath):\n",
    "    i = cv2.imread(equImagesPath + \"/\" + img)\n",
    "    iGrey = cv2.cvtColor(i, cv2.COLOR_RGB2GRAY)\n",
    "    iResized = cv2.resize(iGrey, (64,64))\n",
    "    equImages.append(iResized)\n",
    "    equLabels.append(0)    \n",
    "equX = np.asarray(equImages).reshape((len(equImages), 64, 64, 1)) \n",
    "equY = np.asarray(equLabels)\n",
    "\n",
    "noEquImages = []\n",
    "noEquLabels = []\n",
    "noEquImagesPath = './testImages/class_b'\n",
    "for img in os.listdir(noEquImagesPath):\n",
    "    i = cv2.imread(noEquImagesPath + \"/\" + img)\n",
    "    iGrey = cv2.cvtColor(i, cv2.COLOR_RGB2GRAY)\n",
    "    iResized = cv2.resize(iGrey, (64,64))\n",
    "    noEquImages.append(iResized)\n",
    "    noEquLabels.append(1)    \n",
    "noEquX = np.asarray(noEquImages).reshape((len(noEquImages), 64, 64, 1)) \n",
    "noEquY = np.asarray(noEquLabels)\n",
    "\n",
    "# Stack the training data \n",
    "X = np.vstack((equX, noEquX)) \n",
    "X = X/255.0\n",
    "y = np.hstack((equY, noEquY))\n",
    "\n"
   ]
  },
  {
   "cell_type": "code",
   "execution_count": 3,
   "metadata": {},
   "outputs": [
    {
     "name": "stdout",
     "output_type": "stream",
     "text": [
      "(124, 64, 64, 1)\n",
      "(124,)\n",
      "(128, 64, 64, 1)\n",
      "(128,)\n",
      "(252, 64, 64, 1)\n",
      "(252,)\n"
     ]
    }
   ],
   "source": [
    "# Check shapes\n",
    "print(equX.shape)\n",
    "print(equY.shape)\n",
    "print(noEquX.shape)\n",
    "print(noEquY.shape)\n",
    "print(X.shape)\n",
    "print(y.shape)"
   ]
  },
  {
   "cell_type": "code",
   "execution_count": 4,
   "metadata": {},
   "outputs": [
    {
     "name": "stdout",
     "output_type": "stream",
     "text": [
      "Training data:\n",
      "(201, 64, 64, 1)\n",
      "(201,)\n",
      "Test data:\n",
      "(51, 64, 64, 1)\n",
      "(51,)\n"
     ]
    }
   ],
   "source": [
    "# Split training and validation set\n",
    "X_train, X_test, y_train, y_test = train_test_split(X, y, test_size=0.2, random_state=19)\n",
    "\n",
    "print(\"Training data:\")\n",
    "print(X_train.shape)\n",
    "print(y_train.shape)\n",
    "print(\"Test data:\")\n",
    "print(X_test.shape)\n",
    "print(y_test.shape)\n",
    "\n"
   ]
  },
  {
   "cell_type": "code",
   "execution_count": 5,
   "metadata": {},
   "outputs": [
    {
     "name": "stdout",
     "output_type": "stream",
     "text": [
      "0\n"
     ]
    },
    {
     "data": {
      "image/png": "[encoded data removed]",
      "text/plain": [
       "<Figure size 432x288 with 1 Axes>"
      ]
     },
     "metadata": {
      "needs_background": "light"
     },
     "output_type": "display_data"
    }
   ],
   "source": [
    "# Print random samples from training set\n",
    "n = 20\n",
    "plt.imshow(X_train[n], cmap='gray')\n",
    "print(y_train[n])"
   ]
  },
  {
   "cell_type": "code",
   "execution_count": 6,
   "metadata": {},
   "outputs": [
    {
     "name": "stdout",
     "output_type": "stream",
     "text": [
      "1\n"
     ]
    },
    {
     "data": {
      "image/png": "[encoded data removed]",
      "text/plain": [
       "<Figure size 432x288 with 1 Axes>"
      ]
     },
     "metadata": {
      "needs_background": "light"
     },
     "output_type": "display_data"
    }
   ],
   "source": [
    "# Print random samples from test set\n",
    "n = 2\n",
    "plt.imshow(X_test[n], cmap='gray')\n",
    "print(y_test[n])"
   ]
  },
  {
   "cell_type": "code",
   "execution_count": 7,
   "metadata": {},
   "outputs": [
    {
     "name": "stdout",
     "output_type": "stream",
     "text": [
      "Model: \"sequential\"\n",
      "_________________________________________________________________\n",
      " Layer (type)                Output Shape              Param #   \n",
      "=================================================================\n",
      " conv2d (Conv2D)             (None, 62, 62, 4)         40        \n",
      "                                                                 \n",
      " max_pooling2d (MaxPooling2D  (None, 15, 15, 4)        0         \n",
      " )                                                               \n",
      "                                                                 \n",
      " conv2d_1 (Conv2D)           (None, 13, 13, 4)         148       \n",
      "                                                                 \n",
      " max_pooling2d_1 (MaxPooling  (None, 6, 6, 4)          0         \n",
      " 2D)                                                             \n",
      "                                                                 \n",
      " conv2d_2 (Conv2D)           (None, 4, 4, 1)           37        \n",
      "                                                                 \n",
      " max_pooling2d_2 (MaxPooling  (None, 2, 2, 1)          0         \n",
      " 2D)                                                             \n",
      "                                                                 \n",
      " flatten (Flatten)           (None, 4)                 0         \n",
      "                                                                 \n",
      " dense (Dense)               (None, 2)                 10        \n",
      "                                                                 \n",
      "=================================================================\n",
      "Total params: 235\n",
      "Trainable params: 235\n",
      "Non-trainable params: 0\n",
      "_________________________________________________________________\n"
     ]
    },
    {
     "name": "stderr",
     "output_type": "stream",
     "text": [
      "2022-07-20 11:32:41.580271: I tensorflow/core/platform/cpu_feature_guard.cc:193] This TensorFlow binary is optimized with oneAPI Deep Neural Network Library (oneDNN) to use the following CPU instructions in performance-critical operations:  AVX2 FMA\n",
      "To enable them in other operations, rebuild TensorFlow with the appropriate compiler flags.\n"
     ]
    }
   ],
   "source": [
    "# building a linear stack of layers with the sequential model\n",
    "model = Sequential()\n",
    "# convolutional layer with max pooling\n",
    "model.add(Conv2D(4, kernel_size=(3,3), strides=(1,1), padding='valid', activation='relu', input_shape=(64,64,1)))\n",
    "model.add(MaxPooling2D(pool_size=(4,4)))\n",
    "# convolutional layer with max pooling\n",
    "model.add(Conv2D(4, kernel_size=(3,3), strides=(1,1), padding='valid', activation='relu'))\n",
    "model.add(MaxPooling2D(pool_size=(2,2)))\n",
    "# convolutional layer with max pooling\n",
    "model.add(Conv2D(1, kernel_size=(3,3), strides=(1,1), padding='valid', activation='relu'))\n",
    "model.add(MaxPooling2D(pool_size=(2,2)))\n",
    "# convolutional layer with max pooling\n",
    "#model.add(Conv2D(3, kernel_size=(3,3), strides=(1,1), padding='valid', activation='relu'))\n",
    "\n",
    "# flatten output of conv\n",
    "model.add(Flatten())\n",
    "# hidden layer with dropout \n",
    "#model.add(Dense(10, activation='relu'))\n",
    "#model.add(Dropout(0.2))\n",
    "# hidden layer with dropout \n",
    "#model.add(Dense(4, activation='relu'))\n",
    "#model.add(Dropout(0.2))\n",
    "# output layer\n",
    "model.add(Dense(2, activation='softmax'))\n",
    "\n",
    "model.summary()"
   ]
  },
  {
   "cell_type": "raw",
   "metadata": {},
   "source": [
    "# Build the model\n",
    "\n",
    "# building a linear stack of layers with the sequential model\n",
    "model = Sequential()\n",
    "# convolutional layer\n",
    "model.add(Conv2D(25, kernel_size=(3,3), strides=(1,1), padding='valid', activation='relu', input_shape=(64,64,1)))\n",
    "model.add(MaxPooling2D(pool_size=(2,2)))\n",
    "# flatten output of conv\n",
    "model.add(Flatten())\n",
    "# hidden layer\n",
    "model.add(Dense(100, activation='relu'))\n",
    "# hidden layer\n",
    "model.add(Dense(10, activation='relu'))\n",
    "# output layer\n",
    "model.add(Dense(2, activation='softmax'))\n",
    "\n",
    "model.summary()\n"
   ]
  },
  {
   "cell_type": "raw",
   "metadata": {},
   "source": [
    "# Build the model\n",
    "\n",
    "# Model architechture\n",
    "model = Sequential()\n",
    "\n",
    "model.add(Conv2D(32, (3, 3), input_shape=(64, 64, 3), activation='relu'))\n",
    "model.add(MaxPooling2D(pool_size=(2, 2)))\n",
    "\n",
    "model.add(Conv2D(16, (3, 3), input_shape=(64, 64, 3), activation='relu'))\n",
    "model.add(MaxPooling2D(pool_size=(2, 2)))\n",
    "\n",
    "model.add(Conv2D(8, (3, 3), activation='relu'))\n",
    "model.add(MaxPooling2D(pool_size=(2, 2)))\n",
    "\n",
    "model.add(Conv2D(4, (3, 3), activation='relu'))\n",
    "model.add(MaxPooling2D(pool_size=(2, 2)))\n",
    "\n",
    "\n",
    "model.add(Flatten())\n",
    "model.add(Dense(64, activation='relu'))\n",
    "model.add(Dropout(0.24))\n",
    "model.add(Dense(32, activation='relu'))\n",
    "model.add(Dropout(0.24))\n",
    "model.add(Dense(2,activation='softmax'))\n",
    "\n",
    "model.summary()"
   ]
  },
  {
   "cell_type": "code",
   "execution_count": 8,
   "metadata": {},
   "outputs": [
    {
     "name": "stdout",
     "output_type": "stream",
     "text": [
      "Epoch 1/100\n",
      "25/25 [==============================] - 1s 17ms/step - loss: 0.6932 - accuracy: 0.4876 - val_loss: 0.6937 - val_accuracy: 0.4706\n",
      "Epoch 2/100\n",
      "25/25 [==============================] - 0s 10ms/step - loss: 0.6930 - accuracy: 0.5124 - val_loss: 0.6936 - val_accuracy: 0.4118\n",
      "Epoch 3/100\n",
      "25/25 [==============================] - 0s 10ms/step - loss: 0.6930 - accuracy: 0.5473 - val_loss: 0.6914 - val_accuracy: 0.4902\n",
      "Epoch 4/100\n",
      "25/25 [==============================] - 0s 10ms/step - loss: 0.6935 - accuracy: 0.4876 - val_loss: 0.6940 - val_accuracy: 0.4510\n",
      "Epoch 5/100\n",
      "25/25 [==============================] - 0s 10ms/step - loss: 0.6922 - accuracy: 0.5423 - val_loss: 0.6906 - val_accuracy: 0.4902\n",
      "Epoch 6/100\n",
      "25/25 [==============================] - 0s 10ms/step - loss: 0.6905 - accuracy: 0.5672 - val_loss: 0.6768 - val_accuracy: 0.6275\n",
      "Epoch 7/100\n",
      "25/25 [==============================] - 0s 10ms/step - loss: 0.6866 - accuracy: 0.5672 - val_loss: 0.6707 - val_accuracy: 0.7647\n",
      "Epoch 8/100\n",
      "25/25 [==============================] - 0s 10ms/step - loss: 0.6818 - accuracy: 0.6020 - val_loss: 0.6605 - val_accuracy: 0.7059\n",
      "Epoch 9/100\n",
      "25/25 [==============================] - 0s 10ms/step - loss: 0.6777 - accuracy: 0.6368 - val_loss: 0.6507 - val_accuracy: 0.6078\n",
      "Epoch 10/100\n",
      "25/25 [==============================] - 0s 10ms/step - loss: 0.6724 - accuracy: 0.6418 - val_loss: 0.6398 - val_accuracy: 0.6275\n",
      "Epoch 11/100\n",
      "25/25 [==============================] - 0s 10ms/step - loss: 0.6661 - accuracy: 0.6169 - val_loss: 0.6310 - val_accuracy: 0.6863\n",
      "Epoch 12/100\n",
      "25/25 [==============================] - 0s 10ms/step - loss: 0.6585 - accuracy: 0.6318 - val_loss: 0.6211 - val_accuracy: 0.6863\n",
      "Epoch 13/100\n",
      "25/25 [==============================] - 0s 10ms/step - loss: 0.6449 - accuracy: 0.6965 - val_loss: 0.6073 - val_accuracy: 0.5882\n",
      "Epoch 14/100\n",
      "25/25 [==============================] - 0s 10ms/step - loss: 0.6344 - accuracy: 0.6667 - val_loss: 0.5938 - val_accuracy: 0.6078\n",
      "Epoch 15/100\n",
      "25/25 [==============================] - 0s 10ms/step - loss: 0.6281 - accuracy: 0.6766 - val_loss: 0.5932 - val_accuracy: 0.5882\n",
      "Epoch 16/100\n",
      "25/25 [==============================] - 0s 10ms/step - loss: 0.6247 - accuracy: 0.7015 - val_loss: 0.5732 - val_accuracy: 0.6667\n",
      "Epoch 17/100\n",
      "25/25 [==============================] - 0s 10ms/step - loss: 0.6109 - accuracy: 0.7114 - val_loss: 0.5631 - val_accuracy: 0.6471\n",
      "Epoch 18/100\n",
      "25/25 [==============================] - 0s 10ms/step - loss: 0.5991 - accuracy: 0.7264 - val_loss: 0.5531 - val_accuracy: 0.6471\n",
      "Epoch 19/100\n",
      "25/25 [==============================] - 0s 10ms/step - loss: 0.5872 - accuracy: 0.7512 - val_loss: 0.5468 - val_accuracy: 0.7255\n",
      "Epoch 20/100\n",
      "25/25 [==============================] - 0s 10ms/step - loss: 0.5798 - accuracy: 0.7562 - val_loss: 0.5357 - val_accuracy: 0.7059\n",
      "Epoch 21/100\n",
      "25/25 [==============================] - 0s 10ms/step - loss: 0.5759 - accuracy: 0.7363 - val_loss: 0.5385 - val_accuracy: 0.7255\n",
      "Epoch 22/100\n",
      "25/25 [==============================] - 0s 10ms/step - loss: 0.5791 - accuracy: 0.7463 - val_loss: 0.5360 - val_accuracy: 0.6863\n",
      "Epoch 23/100\n",
      "25/25 [==============================] - 0s 10ms/step - loss: 0.5572 - accuracy: 0.7612 - val_loss: 0.5101 - val_accuracy: 0.7059\n",
      "Epoch 24/100\n",
      "25/25 [==============================] - 0s 10ms/step - loss: 0.5470 - accuracy: 0.7711 - val_loss: 0.5043 - val_accuracy: 0.7255\n",
      "Epoch 25/100\n",
      "25/25 [==============================] - 0s 10ms/step - loss: 0.5419 - accuracy: 0.7711 - val_loss: 0.4968 - val_accuracy: 0.7451\n",
      "Epoch 26/100\n",
      "25/25 [==============================] - 0s 11ms/step - loss: 0.5500 - accuracy: 0.7811 - val_loss: 0.4944 - val_accuracy: 0.7451\n",
      "Epoch 27/100\n",
      "25/25 [==============================] - 0s 10ms/step - loss: 0.5219 - accuracy: 0.8060 - val_loss: 0.4865 - val_accuracy: 0.7451\n",
      "Epoch 28/100\n",
      "25/25 [==============================] - 0s 10ms/step - loss: 0.5202 - accuracy: 0.7761 - val_loss: 0.4842 - val_accuracy: 0.7451\n",
      "Epoch 29/100\n",
      "25/25 [==============================] - 0s 10ms/step - loss: 0.5116 - accuracy: 0.8209 - val_loss: 0.4769 - val_accuracy: 0.7059\n",
      "Epoch 30/100\n",
      "25/25 [==============================] - 0s 11ms/step - loss: 0.5069 - accuracy: 0.8308 - val_loss: 0.4589 - val_accuracy: 0.7451\n",
      "Epoch 31/100\n",
      "25/25 [==============================] - 0s 10ms/step - loss: 0.4986 - accuracy: 0.8010 - val_loss: 0.4707 - val_accuracy: 0.7059\n",
      "Epoch 32/100\n",
      "25/25 [==============================] - 0s 11ms/step - loss: 0.4951 - accuracy: 0.8109 - val_loss: 0.4483 - val_accuracy: 0.7451\n",
      "Epoch 33/100\n",
      "25/25 [==============================] - 0s 11ms/step - loss: 0.4808 - accuracy: 0.8308 - val_loss: 0.4361 - val_accuracy: 0.7843\n",
      "Epoch 34/100\n",
      "25/25 [==============================] - 0s 11ms/step - loss: 0.4869 - accuracy: 0.8408 - val_loss: 0.4351 - val_accuracy: 0.7843\n",
      "Epoch 35/100\n",
      "25/25 [==============================] - 0s 10ms/step - loss: 0.4797 - accuracy: 0.8358 - val_loss: 0.5261 - val_accuracy: 0.6078\n",
      "Epoch 36/100\n",
      "25/25 [==============================] - 0s 12ms/step - loss: 0.4724 - accuracy: 0.8408 - val_loss: 0.4496 - val_accuracy: 0.7255\n",
      "Epoch 37/100\n",
      "25/25 [==============================] - 0s 11ms/step - loss: 0.4560 - accuracy: 0.8607 - val_loss: 0.4495 - val_accuracy: 0.7255\n",
      "Epoch 38/100\n",
      "25/25 [==============================] - 0s 11ms/step - loss: 0.4592 - accuracy: 0.8259 - val_loss: 0.4277 - val_accuracy: 0.7843\n",
      "Epoch 39/100\n",
      "25/25 [==============================] - 0s 11ms/step - loss: 0.4448 - accuracy: 0.8408 - val_loss: 0.4106 - val_accuracy: 0.7843\n",
      "Epoch 40/100\n",
      "25/25 [==============================] - 0s 11ms/step - loss: 0.4278 - accuracy: 0.8806 - val_loss: 0.4143 - val_accuracy: 0.7843\n",
      "Epoch 41/100\n",
      "25/25 [==============================] - 0s 11ms/step - loss: 0.4306 - accuracy: 0.8607 - val_loss: 0.4136 - val_accuracy: 0.7647\n",
      "Epoch 42/100\n",
      "25/25 [==============================] - 0s 11ms/step - loss: 0.4264 - accuracy: 0.8507 - val_loss: 0.4053 - val_accuracy: 0.7843\n",
      "Epoch 43/100\n",
      "25/25 [==============================] - 0s 11ms/step - loss: 0.4120 - accuracy: 0.8607 - val_loss: 0.3996 - val_accuracy: 0.8039\n",
      "Epoch 44/100\n",
      "25/25 [==============================] - 0s 12ms/step - loss: 0.4156 - accuracy: 0.8706 - val_loss: 0.3939 - val_accuracy: 0.7647\n",
      "Epoch 45/100\n",
      "25/25 [==============================] - 0s 11ms/step - loss: 0.4130 - accuracy: 0.8657 - val_loss: 0.3890 - val_accuracy: 0.8235\n",
      "Epoch 46/100\n",
      "25/25 [==============================] - 0s 12ms/step - loss: 0.3974 - accuracy: 0.8856 - val_loss: 0.3895 - val_accuracy: 0.8235\n",
      "Epoch 47/100\n",
      "25/25 [==============================] - 0s 11ms/step - loss: 0.3902 - accuracy: 0.8856 - val_loss: 0.3725 - val_accuracy: 0.8431\n",
      "Epoch 48/100\n",
      "25/25 [==============================] - 0s 11ms/step - loss: 0.3958 - accuracy: 0.8806 - val_loss: 0.3734 - val_accuracy: 0.8431\n",
      "Epoch 49/100\n",
      "25/25 [==============================] - 0s 12ms/step - loss: 0.4039 - accuracy: 0.8458 - val_loss: 0.3830 - val_accuracy: 0.8431\n",
      "Epoch 50/100\n",
      "25/25 [==============================] - 0s 12ms/step - loss: 0.4061 - accuracy: 0.8657 - val_loss: 0.3644 - val_accuracy: 0.8431\n",
      "Epoch 51/100\n",
      "25/25 [==============================] - 0s 13ms/step - loss: 0.3631 - accuracy: 0.8955 - val_loss: 0.3461 - val_accuracy: 0.8627\n",
      "Epoch 52/100\n",
      "25/25 [==============================] - 0s 12ms/step - loss: 0.3465 - accuracy: 0.9453 - val_loss: 0.3362 - val_accuracy: 0.9020\n",
      "Epoch 53/100\n",
      "25/25 [==============================] - 0s 13ms/step - loss: 0.3385 - accuracy: 0.9453 - val_loss: 0.3444 - val_accuracy: 0.8627\n",
      "Epoch 54/100\n",
      "25/25 [==============================] - 0s 12ms/step - loss: 0.3236 - accuracy: 0.9403 - val_loss: 0.3388 - val_accuracy: 0.8627\n",
      "Epoch 55/100\n",
      "25/25 [==============================] - 0s 12ms/step - loss: 0.3172 - accuracy: 0.9602 - val_loss: 0.3156 - val_accuracy: 0.9216\n",
      "Epoch 56/100\n",
      "25/25 [==============================] - 0s 13ms/step - loss: 0.3057 - accuracy: 0.9652 - val_loss: 0.3097 - val_accuracy: 0.9020\n",
      "Epoch 57/100\n",
      "25/25 [==============================] - 0s 12ms/step - loss: 0.3079 - accuracy: 0.9552 - val_loss: 0.3010 - val_accuracy: 0.9216\n",
      "Epoch 58/100\n"
     ]
    },
    {
     "name": "stdout",
     "output_type": "stream",
     "text": [
      "25/25 [==============================] - 0s 15ms/step - loss: 0.3072 - accuracy: 0.9602 - val_loss: 0.2911 - val_accuracy: 0.9412\n",
      "Epoch 59/100\n",
      "25/25 [==============================] - 1s 20ms/step - loss: 0.2824 - accuracy: 0.9602 - val_loss: 0.2884 - val_accuracy: 0.9216\n",
      "Epoch 60/100\n",
      "25/25 [==============================] - 0s 11ms/step - loss: 0.2797 - accuracy: 0.9602 - val_loss: 0.2772 - val_accuracy: 0.9412\n",
      "Epoch 61/100\n",
      "25/25 [==============================] - 0s 11ms/step - loss: 0.2723 - accuracy: 0.9602 - val_loss: 0.2962 - val_accuracy: 0.9020\n",
      "Epoch 62/100\n",
      "25/25 [==============================] - 0s 12ms/step - loss: 0.2719 - accuracy: 0.9701 - val_loss: 0.2864 - val_accuracy: 0.9216\n",
      "Epoch 63/100\n",
      "25/25 [==============================] - 0s 13ms/step - loss: 0.2647 - accuracy: 0.9701 - val_loss: 0.2700 - val_accuracy: 0.9216\n",
      "Epoch 64/100\n",
      "25/25 [==============================] - 0s 13ms/step - loss: 0.2498 - accuracy: 0.9751 - val_loss: 0.2558 - val_accuracy: 0.9216\n",
      "Epoch 65/100\n",
      "25/25 [==============================] - 0s 14ms/step - loss: 0.2626 - accuracy: 0.9652 - val_loss: 0.2644 - val_accuracy: 0.9216\n",
      "Epoch 66/100\n",
      "25/25 [==============================] - 0s 15ms/step - loss: 0.2520 - accuracy: 0.9701 - val_loss: 0.2520 - val_accuracy: 0.9412\n",
      "Epoch 67/100\n",
      "25/25 [==============================] - 0s 12ms/step - loss: 0.2352 - accuracy: 0.9751 - val_loss: 0.2463 - val_accuracy: 0.9216\n",
      "Epoch 68/100\n",
      "25/25 [==============================] - 0s 14ms/step - loss: 0.2358 - accuracy: 0.9652 - val_loss: 0.2501 - val_accuracy: 0.9412\n",
      "Epoch 69/100\n",
      "25/25 [==============================] - 0s 14ms/step - loss: 0.2367 - accuracy: 0.9652 - val_loss: 0.2501 - val_accuracy: 0.9412\n",
      "Epoch 70/100\n",
      "25/25 [==============================] - 0s 11ms/step - loss: 0.2219 - accuracy: 0.9652 - val_loss: 0.2504 - val_accuracy: 0.9412\n",
      "Epoch 71/100\n",
      "25/25 [==============================] - 0s 13ms/step - loss: 0.2235 - accuracy: 0.9701 - val_loss: 0.2478 - val_accuracy: 0.9216\n",
      "Epoch 72/100\n",
      "25/25 [==============================] - 0s 15ms/step - loss: 0.2121 - accuracy: 0.9751 - val_loss: 0.2392 - val_accuracy: 0.9412\n",
      "Epoch 73/100\n",
      "25/25 [==============================] - 0s 14ms/step - loss: 0.2183 - accuracy: 0.9652 - val_loss: 0.2450 - val_accuracy: 0.9412\n",
      "Epoch 74/100\n",
      "25/25 [==============================] - 0s 14ms/step - loss: 0.2384 - accuracy: 0.9552 - val_loss: 0.2168 - val_accuracy: 0.9412\n",
      "Epoch 75/100\n",
      "25/25 [==============================] - 0s 14ms/step - loss: 0.2097 - accuracy: 0.9751 - val_loss: 0.2322 - val_accuracy: 0.9216\n",
      "Epoch 76/100\n",
      "25/25 [==============================] - 0s 12ms/step - loss: 0.1983 - accuracy: 0.9751 - val_loss: 0.2146 - val_accuracy: 0.9412\n",
      "Epoch 77/100\n",
      "25/25 [==============================] - 0s 16ms/step - loss: 0.2005 - accuracy: 0.9801 - val_loss: 0.2129 - val_accuracy: 0.9412\n",
      "Epoch 78/100\n",
      "25/25 [==============================] - 0s 14ms/step - loss: 0.1888 - accuracy: 0.9801 - val_loss: 0.2074 - val_accuracy: 0.9412\n",
      "Epoch 79/100\n",
      "25/25 [==============================] - 0s 12ms/step - loss: 0.1900 - accuracy: 0.9751 - val_loss: 0.2159 - val_accuracy: 0.9412\n",
      "Epoch 80/100\n",
      "25/25 [==============================] - 0s 15ms/step - loss: 0.1880 - accuracy: 0.9701 - val_loss: 0.2115 - val_accuracy: 0.9412\n",
      "Epoch 81/100\n",
      "25/25 [==============================] - 0s 14ms/step - loss: 0.1789 - accuracy: 0.9851 - val_loss: 0.2095 - val_accuracy: 0.9412\n",
      "Epoch 82/100\n",
      "25/25 [==============================] - 0s 14ms/step - loss: 0.1734 - accuracy: 0.9851 - val_loss: 0.1962 - val_accuracy: 0.9412\n",
      "Epoch 83/100\n",
      "25/25 [==============================] - 0s 14ms/step - loss: 0.1850 - accuracy: 0.9801 - val_loss: 0.2015 - val_accuracy: 0.9412\n",
      "Epoch 84/100\n",
      "25/25 [==============================] - 0s 12ms/step - loss: 0.1786 - accuracy: 0.9751 - val_loss: 0.1980 - val_accuracy: 0.9412\n",
      "Epoch 85/100\n",
      "25/25 [==============================] - 0s 13ms/step - loss: 0.1718 - accuracy: 0.9701 - val_loss: 0.1935 - val_accuracy: 0.9412\n",
      "Epoch 86/100\n",
      "25/25 [==============================] - 0s 14ms/step - loss: 0.1629 - accuracy: 0.9900 - val_loss: 0.2065 - val_accuracy: 0.9412\n",
      "Epoch 87/100\n",
      "25/25 [==============================] - 0s 15ms/step - loss: 0.1653 - accuracy: 0.9801 - val_loss: 0.2053 - val_accuracy: 0.9412\n",
      "Epoch 88/100\n",
      "25/25 [==============================] - 0s 12ms/step - loss: 0.1546 - accuracy: 0.9900 - val_loss: 0.1919 - val_accuracy: 0.9412\n",
      "Epoch 89/100\n",
      "25/25 [==============================] - 0s 13ms/step - loss: 0.1549 - accuracy: 0.9900 - val_loss: 0.1910 - val_accuracy: 0.9412\n",
      "Epoch 90/100\n",
      "25/25 [==============================] - 0s 15ms/step - loss: 0.1562 - accuracy: 0.9801 - val_loss: 0.1902 - val_accuracy: 0.9412\n",
      "Epoch 91/100\n",
      "25/25 [==============================] - 0s 14ms/step - loss: 0.1644 - accuracy: 0.9801 - val_loss: 0.1874 - val_accuracy: 0.9412\n",
      "Epoch 92/100\n",
      "25/25 [==============================] - 0s 15ms/step - loss: 0.1570 - accuracy: 0.9900 - val_loss: 0.2183 - val_accuracy: 0.9412\n",
      "Epoch 93/100\n",
      "25/25 [==============================] - 0s 13ms/step - loss: 0.1610 - accuracy: 0.9701 - val_loss: 0.1819 - val_accuracy: 0.9412\n",
      "Epoch 94/100\n",
      "25/25 [==============================] - 0s 15ms/step - loss: 0.1411 - accuracy: 0.9900 - val_loss: 0.2336 - val_accuracy: 0.9216\n",
      "Epoch 95/100\n",
      "25/25 [==============================] - 0s 15ms/step - loss: 0.1482 - accuracy: 0.9801 - val_loss: 0.1897 - val_accuracy: 0.9412\n",
      "Epoch 96/100\n",
      "25/25 [==============================] - 0s 15ms/step - loss: 0.1487 - accuracy: 0.9801 - val_loss: 0.1816 - val_accuracy: 0.9412\n",
      "Epoch 97/100\n",
      "25/25 [==============================] - 0s 15ms/step - loss: 0.1393 - accuracy: 0.9801 - val_loss: 0.1860 - val_accuracy: 0.9412\n",
      "Epoch 98/100\n",
      "25/25 [==============================] - 0s 16ms/step - loss: 0.1405 - accuracy: 0.9801 - val_loss: 0.1774 - val_accuracy: 0.9412\n",
      "Epoch 99/100\n",
      "25/25 [==============================] - 0s 15ms/step - loss: 0.1517 - accuracy: 0.9751 - val_loss: 0.1835 - val_accuracy: 0.9412\n",
      "Epoch 100/100\n",
      "25/25 [==============================] - 0s 15ms/step - loss: 0.1438 - accuracy: 0.9851 - val_loss: 0.2049 - val_accuracy: 0.9412\n"
     ]
    }
   ],
   "source": [
    "# Train the model \n",
    "#opt = SGD(lr=0.01)\n",
    "opt = \"adam\"\n",
    "model.compile(loss = \"sparse_categorical_crossentropy\", optimizer = opt, metrics=['accuracy'])\n",
    "#history = model.fit(X_train, y_train, batch_size=8, epochs=200, validation_data=(X_test, y_test))\n",
    "\n",
    "\n",
    "datagen = ImageDataGenerator(\n",
    "        rotation_range=0, # rotation\n",
    "        width_shift_range=0.01, # horizontal shift\n",
    "        height_shift_range=0.01, # vertical shift\n",
    "        zoom_range=0.01, # zoom\n",
    "        horizontal_flip=False # horizontal flip\n",
    "        #brightness_range=[0.2,1.2] # brightness\n",
    "        )\n",
    "\n",
    "history = model.fit(datagen.flow(X_train, y_train, batch_size=8),steps_per_epoch=len(X_train)/8, \n",
    "                     epochs=100, validation_data=(X_test, y_test))"
   ]
  },
  {
   "cell_type": "code",
   "execution_count": 9,
   "metadata": {},
   "outputs": [
    {
     "data": {
      "image/png": "[encoded data removed]",
      "text/plain": [
       "<Figure size 432x288 with 1 Axes>"
      ]
     },
     "metadata": {
      "needs_background": "light"
     },
     "output_type": "display_data"
    },
    {
     "data": {
      "image/png": "[encoded data removed]",
      "text/plain": [
       "<Figure size 432x288 with 1 Axes>"
      ]
     },
     "metadata": {
      "needs_background": "light"
     },
     "output_type": "display_data"
    }
   ],
   "source": [
    "# summarize history for loss\n",
    "plt.plot(history.history['loss'])\n",
    "plt.plot(history.history['val_loss'])\n",
    "plt.title('model loss')\n",
    "plt.ylabel('loss')\n",
    "plt.xlabel('epoch')\n",
    "plt.legend(['train', 'test'], loc='upper left')\n",
    "plt.show()\n",
    "\n",
    "# summarize history for accuracy\n",
    "plt.plot(history.history['accuracy'])\n",
    "plt.plot(history.history['val_accuracy'])\n",
    "plt.title('model accuracy')\n",
    "plt.ylabel('accuracy')\n",
    "plt.xlabel('epoch')\n",
    "plt.legend(['train', 'test'], loc='upper left')\n",
    "plt.show()"
   ]
  },
  {
   "cell_type": "code",
   "execution_count": 10,
   "metadata": {},
   "outputs": [
    {
     "name": "stdout",
     "output_type": "stream",
     "text": [
      "0\n",
      "1/1 [==============================] - 0s 76ms/step\n",
      "[[0.88395077 0.11604917]]\n"
     ]
    },
    {
     "data": {
      "image/png": "[encoded data removed]",
      "text/plain": [
       "<Figure size 432x288 with 1 Axes>"
      ]
     },
     "metadata": {
      "needs_background": "light"
     },
     "output_type": "display_data"
    }
   ],
   "source": [
    "# Use the model to make predictions\n",
    "n = 23\n",
    "plt.imshow(X_train[n], cmap='gray')\n",
    "print(y_train[n])\n",
    "sample = X_train[n].reshape(1,64,64,1)\n",
    "\n",
    "prediction = model.predict(sample)\n",
    "print(prediction)"
   ]
  },
  {
   "cell_type": "code",
   "execution_count": 11,
   "metadata": {},
   "outputs": [
    {
     "name": "stdout",
     "output_type": "stream",
     "text": [
      "1\n",
      "(1, 64, 64, 1)\n",
      "1/1 [==============================] - 0s 20ms/step\n",
      "[[2.03379e-09 1.00000e+00]]\n"
     ]
    },
    {
     "data": {
      "image/png": "[encoded data removed]",
      "text/plain": [
       "<Figure size 432x288 with 1 Axes>"
      ]
     },
     "metadata": {
      "needs_background": "light"
     },
     "output_type": "display_data"
    }
   ],
   "source": [
    "\n",
    "# Use the model to make predictions on the test test\n",
    "n = 2\n",
    "plt.imshow(X_test[n], cmap='gray')\n",
    "print(y_test[n])\n",
    "sample = X_test[n].reshape(1,64,64,1)\n",
    "print(sample.shape)\n",
    "prediction = model.predict(sample)\n",
    "print(prediction)"
   ]
  },
  {
   "cell_type": "code",
   "execution_count": 12,
   "metadata": {},
   "outputs": [],
   "source": [
    "# Save the model \n",
    "#history.model.save('equationClassifier.h5')\n",
    "history.model.save('XXXequationClassifier.h5')"
   ]
  },
  {
   "cell_type": "code",
   "execution_count": null,
   "metadata": {},
   "outputs": [],
   "source": []
  }
 ],
 "metadata": {
  "kernelspec": {
   "display_name": "Python 3 (ipykernel)",
   "language": "python",
   "name": "python3"
  },
  "language_info": {
   "codemirror_mode": {
    "name": "ipython",
    "version": 3
   },
   "file_extension": ".py",
   "mimetype": "text/x-python",
   "name": "python",
   "nbconvert_exporter": "python",
   "pygments_lexer": "ipython3",
   "version": "3.9.13"
  }
 },
 "nbformat": 4,
 "nbformat_minor": 2
}
