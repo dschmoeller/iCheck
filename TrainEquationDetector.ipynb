{
 "cells": [
  {
   "cell_type": "code",
   "execution_count": 1,
   "metadata": {},
   "outputs": [],
   "source": [
    "import numpy as np\n",
    "import matplotlib.pyplot as plt\n",
    "import matplotlib.image as mpimg\n",
    "import cv2\n",
    "import math\n",
    "import os\n",
    "import glob\n",
    "import keras\n",
    "\n",
    "from PIL import Image\n",
    "from keras.preprocessing.image import ImageDataGenerator\n",
    "from sklearn.model_selection import train_test_split\n",
    "from tensorflow.keras.layers import Input, Lambda, Dense, Flatten, Dropout, Conv2D, MaxPooling2D\n",
    "from tensorflow.keras.models import Model\n",
    "from tensorflow.keras.models import Sequential\n",
    "from keras.optimizers import SGD"
   ]
  },
  {
   "cell_type": "code",
   "execution_count": 2,
   "metadata": {},
   "outputs": [],
   "source": [
    "# Load and build raw data structures\n",
    "equImages = []\n",
    "equLabels = []\n",
    "equImagesPath = './testImages/class_a'\n",
    "for img in os.listdir(equImagesPath):\n",
    "    i = cv2.imread(equImagesPath + \"/\" + img)\n",
    "    iGrey = cv2.cvtColor(i, cv2.COLOR_RGB2GRAY)\n",
    "    iResized = cv2.resize(iGrey, (64,64))\n",
    "    iCanny = cv2.Canny(iResized, 100, 200)\n",
    "    equImages.append(iCanny)\n",
    "    equLabels.append(0)    \n",
    "equX = np.asarray(equImages).reshape((len(equImages), 64, 64, 1)) \n",
    "equY = np.asarray(equLabels)\n",
    "\n",
    "noEquImages = []\n",
    "noEquLabels = []\n",
    "noEquImagesPath = './testImages/class_b'\n",
    "for img in os.listdir(noEquImagesPath):\n",
    "    i = cv2.imread(noEquImagesPath + \"/\" + img)\n",
    "    iGrey = cv2.cvtColor(i, cv2.COLOR_RGB2GRAY)\n",
    "    iResized = cv2.resize(iGrey, (64,64))\n",
    "    iCanny = cv2.Canny(iResized, 100, 200)\n",
    "    noEquImages.append(iCanny)\n",
    "    noEquLabels.append(1)    \n",
    "noEquX = np.asarray(noEquImages).reshape((len(noEquImages), 64, 64, 1)) \n",
    "noEquY = np.asarray(noEquLabels)\n",
    "\n",
    "# Stack the training data \n",
    "X = np.vstack((equX, noEquX)) \n",
    "X = X/255.0\n",
    "y = np.hstack((equY, noEquY))\n",
    "\n"
   ]
  },
  {
   "cell_type": "code",
   "execution_count": 3,
   "metadata": {},
   "outputs": [
    {
     "name": "stdout",
     "output_type": "stream",
     "text": [
      "(124, 64, 64, 1)\n",
      "(124,)\n",
      "(128, 64, 64, 1)\n",
      "(128,)\n",
      "(252, 64, 64, 1)\n",
      "(252,)\n"
     ]
    }
   ],
   "source": [
    "# Check shapes\n",
    "print(equX.shape)\n",
    "print(equY.shape)\n",
    "print(noEquX.shape)\n",
    "print(noEquY.shape)\n",
    "print(X.shape)\n",
    "print(y.shape)"
   ]
  },
  {
   "cell_type": "code",
   "execution_count": 4,
   "metadata": {},
   "outputs": [
    {
     "name": "stdout",
     "output_type": "stream",
     "text": [
      "Training data:\n",
      "(201, 64, 64, 1)\n",
      "(201,)\n",
      "Test data:\n",
      "(51, 64, 64, 1)\n",
      "(51,)\n"
     ]
    }
   ],
   "source": [
    "# Split training and validation set\n",
    "X_train, X_test, y_train, y_test = train_test_split(X, y, test_size=0.2, random_state=19)\n",
    "\n",
    "print(\"Training data:\")\n",
    "print(X_train.shape)\n",
    "print(y_train.shape)\n",
    "print(\"Test data:\")\n",
    "print(X_test.shape)\n",
    "print(y_test.shape)\n",
    "\n"
   ]
  },
  {
   "cell_type": "code",
   "execution_count": 5,
   "metadata": {},
   "outputs": [
    {
     "name": "stdout",
     "output_type": "stream",
     "text": [
      "0\n"
     ]
    },
    {
     "data": {
      "image/png": "[encoded data removed]",
      "text/plain": [
       "<Figure size 432x288 with 1 Axes>"
      ]
     },
     "metadata": {
      "needs_background": "light"
     },
     "output_type": "display_data"
    }
   ],
   "source": [
    "# Print random samples from training set\n",
    "n = 20\n",
    "plt.imshow(X_train[n], cmap='gray')\n",
    "print(y_train[n])"
   ]
  },
  {
   "cell_type": "code",
   "execution_count": 6,
   "metadata": {},
   "outputs": [
    {
     "name": "stdout",
     "output_type": "stream",
     "text": [
      "1\n"
     ]
    },
    {
     "data": {
      "image/png": "[encoded data removed]",
      "text/plain": [
       "<Figure size 432x288 with 1 Axes>"
      ]
     },
     "metadata": {
      "needs_background": "light"
     },
     "output_type": "display_data"
    }
   ],
   "source": [
    "# Print random samples from test set\n",
    "n = 2\n",
    "plt.imshow(X_test[n], cmap='gray')\n",
    "print(y_test[n])"
   ]
  },
  {
   "cell_type": "code",
   "execution_count": 7,
   "metadata": {},
   "outputs": [
    {
     "name": "stdout",
     "output_type": "stream",
     "text": [
      "Model: \"sequential\"\n",
      "_________________________________________________________________\n",
      " Layer (type)                Output Shape              Param #   \n",
      "=================================================================\n",
      " conv2d (Conv2D)             (None, 62, 62, 15)        150       \n",
      "                                                                 \n",
      " max_pooling2d (MaxPooling2D  (None, 15, 15, 15)       0         \n",
      " )                                                               \n",
      "                                                                 \n",
      " conv2d_1 (Conv2D)           (None, 13, 13, 2)         272       \n",
      "                                                                 \n",
      " max_pooling2d_1 (MaxPooling  (None, 6, 6, 2)          0         \n",
      " 2D)                                                             \n",
      "                                                                 \n",
      " flatten (Flatten)           (None, 72)                0         \n",
      "                                                                 \n",
      " dense (Dense)               (None, 4)                 292       \n",
      "                                                                 \n",
      " dropout (Dropout)           (None, 4)                 0         \n",
      "                                                                 \n",
      " dense_1 (Dense)             (None, 2)                 10        \n",
      "                                                                 \n",
      "=================================================================\n",
      "Total params: 724\n",
      "Trainable params: 724\n",
      "Non-trainable params: 0\n",
      "_________________________________________________________________\n"
     ]
    },
    {
     "name": "stderr",
     "output_type": "stream",
     "text": [
      "2022-07-25 22:56:02.285832: I tensorflow/core/platform/cpu_feature_guard.cc:193] This TensorFlow binary is optimized with oneAPI Deep Neural Network Library (oneDNN) to use the following CPU instructions in performance-critical operations:  AVX2 FMA\n",
      "To enable them in other operations, rebuild TensorFlow with the appropriate compiler flags.\n"
     ]
    }
   ],
   "source": [
    "# building a linear stack of layers with the sequential model\n",
    "model = Sequential()\n",
    "# convolutional layer with max pooling\n",
    "model.add(Conv2D(15, kernel_size=(3,3), strides=(1,1), padding='valid', activation='relu', input_shape=(64,64,1)))\n",
    "model.add(MaxPooling2D(pool_size=(4,4)))\n",
    "# convolutional layer with max pooling\n",
    "model.add(Conv2D(2, kernel_size=(3,3), strides=(1,1), padding='valid', activation='relu'))\n",
    "model.add(MaxPooling2D(pool_size=(2,2)))\n",
    "# convolutional layer with max pooling\n",
    "#model.add(Conv2D(3, kernel_size=(3,3), strides=(1,1), padding='valid', activation='relu'))\n",
    "\n",
    "# flatten output of conv\n",
    "model.add(Flatten())\n",
    "# hidden layer with dropout \n",
    "#model.add(Dense(10, activation='relu'))\n",
    "#model.add(Dropout(0.3))\n",
    "# hidden layer with dropout \n",
    "model.add(Dense(4, activation='relu'))\n",
    "model.add(Dropout(0.2))\n",
    "# output layer\n",
    "model.add(Dense(2, activation='softmax'))\n",
    "\n",
    "model.summary()"
   ]
  },
  {
   "cell_type": "raw",
   "metadata": {},
   "source": [
    "# Build the model\n",
    "\n",
    "# building a linear stack of layers with the sequential model\n",
    "model = Sequential()\n",
    "# convolutional layer\n",
    "model.add(Conv2D(25, kernel_size=(3,3), strides=(1,1), padding='valid', activation='relu', input_shape=(64,64,1)))\n",
    "model.add(MaxPooling2D(pool_size=(2,2)))\n",
    "# flatten output of conv\n",
    "model.add(Flatten())\n",
    "# hidden layer\n",
    "model.add(Dense(100, activation='relu'))\n",
    "# hidden layer\n",
    "model.add(Dense(10, activation='relu'))\n",
    "# output layer\n",
    "model.add(Dense(2, activation='softmax'))\n",
    "\n",
    "model.summary()\n"
   ]
  },
  {
   "cell_type": "raw",
   "metadata": {},
   "source": [
    "# Build the model\n",
    "\n",
    "# Model architechture\n",
    "model = Sequential()\n",
    "\n",
    "model.add(Conv2D(32, (3, 3), input_shape=(64, 64, 3), activation='relu'))\n",
    "model.add(MaxPooling2D(pool_size=(2, 2)))\n",
    "\n",
    "model.add(Conv2D(16, (3, 3), input_shape=(64, 64, 3), activation='relu'))\n",
    "model.add(MaxPooling2D(pool_size=(2, 2)))\n",
    "\n",
    "model.add(Conv2D(8, (3, 3), activation='relu'))\n",
    "model.add(MaxPooling2D(pool_size=(2, 2)))\n",
    "\n",
    "model.add(Conv2D(4, (3, 3), activation='relu'))\n",
    "model.add(MaxPooling2D(pool_size=(2, 2)))\n",
    "\n",
    "\n",
    "model.add(Flatten())\n",
    "model.add(Dense(64, activation='relu'))\n",
    "model.add(Dropout(0.24))\n",
    "model.add(Dense(32, activation='relu'))\n",
    "model.add(Dropout(0.24))\n",
    "model.add(Dense(2,activation='softmax'))\n",
    "\n",
    "model.summary()"
   ]
  },
  {
   "cell_type": "code",
   "execution_count": 8,
   "metadata": {},
   "outputs": [
    {
     "name": "stdout",
     "output_type": "stream",
     "text": [
      "Epoch 1/100\n",
      "26/26 [==============================] - 1s 16ms/step - loss: 0.6965 - accuracy: 0.4826 - val_loss: 0.6911 - val_accuracy: 0.5490\n",
      "Epoch 2/100\n",
      "26/26 [==============================] - 0s 10ms/step - loss: 0.6851 - accuracy: 0.5522 - val_loss: 0.6874 - val_accuracy: 0.5098\n",
      "Epoch 3/100\n",
      "26/26 [==============================] - 0s 9ms/step - loss: 0.6680 - accuracy: 0.6468 - val_loss: 0.6714 - val_accuracy: 0.6863\n",
      "Epoch 4/100\n",
      "26/26 [==============================] - 0s 9ms/step - loss: 0.6339 - accuracy: 0.7065 - val_loss: 0.6372 - val_accuracy: 0.6667\n",
      "Epoch 5/100\n",
      "26/26 [==============================] - 0s 9ms/step - loss: 0.5520 - accuracy: 0.7612 - val_loss: 0.5663 - val_accuracy: 0.6667\n",
      "Epoch 6/100\n",
      "26/26 [==============================] - 0s 9ms/step - loss: 0.4470 - accuracy: 0.8308 - val_loss: 0.4086 - val_accuracy: 0.8235\n",
      "Epoch 7/100\n",
      "26/26 [==============================] - 0s 9ms/step - loss: 0.3588 - accuracy: 0.8408 - val_loss: 0.3431 - val_accuracy: 0.8039\n",
      "Epoch 8/100\n",
      "26/26 [==============================] - 0s 10ms/step - loss: 0.3187 - accuracy: 0.8507 - val_loss: 0.3836 - val_accuracy: 0.7647\n",
      "Epoch 9/100\n",
      "26/26 [==============================] - 0s 11ms/step - loss: 0.3147 - accuracy: 0.8607 - val_loss: 0.3427 - val_accuracy: 0.7843\n",
      "Epoch 10/100\n",
      "26/26 [==============================] - 0s 10ms/step - loss: 0.2849 - accuracy: 0.8507 - val_loss: 0.2950 - val_accuracy: 0.8824\n",
      "Epoch 11/100\n",
      "26/26 [==============================] - 0s 10ms/step - loss: 0.3241 - accuracy: 0.8557 - val_loss: 0.3654 - val_accuracy: 0.7451\n",
      "Epoch 12/100\n",
      "26/26 [==============================] - 0s 10ms/step - loss: 0.2385 - accuracy: 0.9055 - val_loss: 0.3596 - val_accuracy: 0.7843\n",
      "Epoch 13/100\n",
      "26/26 [==============================] - 0s 12ms/step - loss: 0.2456 - accuracy: 0.8806 - val_loss: 0.3348 - val_accuracy: 0.7843\n",
      "Epoch 14/100\n",
      "26/26 [==============================] - 0s 10ms/step - loss: 0.2108 - accuracy: 0.9154 - val_loss: 0.3071 - val_accuracy: 0.8235\n",
      "Epoch 15/100\n",
      "26/26 [==============================] - 0s 10ms/step - loss: 0.2005 - accuracy: 0.9104 - val_loss: 0.4185 - val_accuracy: 0.7843\n",
      "Epoch 16/100\n",
      "26/26 [==============================] - 0s 9ms/step - loss: 0.2062 - accuracy: 0.9055 - val_loss: 0.2590 - val_accuracy: 0.8431\n",
      "Epoch 17/100\n",
      "26/26 [==============================] - 0s 9ms/step - loss: 0.1964 - accuracy: 0.9254 - val_loss: 0.3712 - val_accuracy: 0.8039\n",
      "Epoch 18/100\n",
      "26/26 [==============================] - 0s 10ms/step - loss: 0.1684 - accuracy: 0.9403 - val_loss: 0.3363 - val_accuracy: 0.8235\n",
      "Epoch 19/100\n",
      "26/26 [==============================] - 0s 11ms/step - loss: 0.1706 - accuracy: 0.9254 - val_loss: 0.3227 - val_accuracy: 0.8235\n",
      "Epoch 20/100\n",
      "26/26 [==============================] - 0s 9ms/step - loss: 0.1753 - accuracy: 0.9055 - val_loss: 0.2783 - val_accuracy: 0.8431\n",
      "Epoch 21/100\n",
      "26/26 [==============================] - 0s 11ms/step - loss: 0.1454 - accuracy: 0.9453 - val_loss: 0.2832 - val_accuracy: 0.8431\n",
      "Epoch 22/100\n",
      "26/26 [==============================] - 0s 9ms/step - loss: 0.1302 - accuracy: 0.9652 - val_loss: 0.3674 - val_accuracy: 0.8235\n",
      "Epoch 23/100\n",
      "26/26 [==============================] - 0s 10ms/step - loss: 0.1351 - accuracy: 0.9353 - val_loss: 0.3642 - val_accuracy: 0.8235\n",
      "Epoch 24/100\n",
      "26/26 [==============================] - 0s 9ms/step - loss: 0.1368 - accuracy: 0.9353 - val_loss: 0.3037 - val_accuracy: 0.8431\n",
      "Epoch 25/100\n",
      "26/26 [==============================] - 0s 11ms/step - loss: 0.1626 - accuracy: 0.9204 - val_loss: 0.4049 - val_accuracy: 0.8039\n",
      "Epoch 26/100\n",
      "26/26 [==============================] - 0s 14ms/step - loss: 0.1412 - accuracy: 0.9353 - val_loss: 0.3491 - val_accuracy: 0.8431\n",
      "Epoch 27/100\n",
      "26/26 [==============================] - 0s 9ms/step - loss: 0.1393 - accuracy: 0.9403 - val_loss: 0.4255 - val_accuracy: 0.8039\n",
      "Epoch 28/100\n",
      "26/26 [==============================] - 0s 9ms/step - loss: 0.1383 - accuracy: 0.9403 - val_loss: 0.3714 - val_accuracy: 0.8039\n",
      "Epoch 29/100\n",
      "26/26 [==============================] - 0s 9ms/step - loss: 0.1148 - accuracy: 0.9652 - val_loss: 0.3015 - val_accuracy: 0.8431\n",
      "Epoch 30/100\n",
      "26/26 [==============================] - 0s 16ms/step - loss: 0.1402 - accuracy: 0.9303 - val_loss: 0.4033 - val_accuracy: 0.8039\n",
      "Epoch 31/100\n",
      "26/26 [==============================] - 0s 12ms/step - loss: 0.1154 - accuracy: 0.9353 - val_loss: 0.3264 - val_accuracy: 0.8431\n",
      "Epoch 32/100\n",
      "26/26 [==============================] - 0s 9ms/step - loss: 0.0825 - accuracy: 0.9701 - val_loss: 0.3513 - val_accuracy: 0.8431\n",
      "Epoch 33/100\n",
      "26/26 [==============================] - 0s 10ms/step - loss: 0.1088 - accuracy: 0.9502 - val_loss: 0.4006 - val_accuracy: 0.8235\n",
      "Epoch 34/100\n",
      "26/26 [==============================] - 0s 10ms/step - loss: 0.0799 - accuracy: 0.9701 - val_loss: 0.3008 - val_accuracy: 0.8824\n",
      "Epoch 35/100\n",
      "26/26 [==============================] - 0s 12ms/step - loss: 0.1210 - accuracy: 0.9502 - val_loss: 0.3624 - val_accuracy: 0.8235\n",
      "Epoch 36/100\n",
      "26/26 [==============================] - 0s 12ms/step - loss: 0.0918 - accuracy: 0.9502 - val_loss: 0.3906 - val_accuracy: 0.8235\n",
      "Epoch 37/100\n",
      "26/26 [==============================] - 0s 16ms/step - loss: 0.0851 - accuracy: 0.9751 - val_loss: 0.3244 - val_accuracy: 0.8627\n",
      "Epoch 38/100\n",
      "26/26 [==============================] - 0s 11ms/step - loss: 0.1047 - accuracy: 0.9502 - val_loss: 0.3853 - val_accuracy: 0.8235\n",
      "Epoch 39/100\n",
      "26/26 [==============================] - 0s 10ms/step - loss: 0.0772 - accuracy: 0.9652 - val_loss: 0.3508 - val_accuracy: 0.8431\n",
      "Epoch 40/100\n",
      "26/26 [==============================] - 0s 12ms/step - loss: 0.0714 - accuracy: 0.9751 - val_loss: 0.3416 - val_accuracy: 0.8235\n",
      "Epoch 41/100\n",
      "26/26 [==============================] - 0s 12ms/step - loss: 0.0858 - accuracy: 0.9701 - val_loss: 0.5010 - val_accuracy: 0.8039\n",
      "Epoch 42/100\n",
      "26/26 [==============================] - 0s 10ms/step - loss: 0.0657 - accuracy: 0.9701 - val_loss: 0.4382 - val_accuracy: 0.8235\n",
      "Epoch 43/100\n",
      "26/26 [==============================] - 0s 9ms/step - loss: 0.0671 - accuracy: 0.9751 - val_loss: 0.4312 - val_accuracy: 0.8235\n",
      "Epoch 44/100\n",
      "26/26 [==============================] - 0s 13ms/step - loss: 0.0895 - accuracy: 0.9502 - val_loss: 0.4105 - val_accuracy: 0.8235\n",
      "Epoch 45/100\n",
      "26/26 [==============================] - 0s 10ms/step - loss: 0.0642 - accuracy: 0.9701 - val_loss: 0.3686 - val_accuracy: 0.8431\n",
      "Epoch 46/100\n",
      "26/26 [==============================] - 0s 10ms/step - loss: 0.0852 - accuracy: 0.9502 - val_loss: 0.4271 - val_accuracy: 0.8235\n",
      "Epoch 47/100\n",
      "26/26 [==============================] - 0s 10ms/step - loss: 0.0521 - accuracy: 0.9751 - val_loss: 0.4648 - val_accuracy: 0.8235\n",
      "Epoch 48/100\n",
      "26/26 [==============================] - 0s 11ms/step - loss: 0.0825 - accuracy: 0.9701 - val_loss: 0.4873 - val_accuracy: 0.8235\n",
      "Epoch 49/100\n",
      "26/26 [==============================] - 0s 10ms/step - loss: 0.0628 - accuracy: 0.9552 - val_loss: 0.4463 - val_accuracy: 0.8235\n",
      "Epoch 50/100\n",
      "26/26 [==============================] - 0s 11ms/step - loss: 0.0777 - accuracy: 0.9701 - val_loss: 0.3340 - val_accuracy: 0.8824\n",
      "Epoch 51/100\n",
      "26/26 [==============================] - 0s 10ms/step - loss: 0.1005 - accuracy: 0.9403 - val_loss: 0.2873 - val_accuracy: 0.9020\n",
      "Epoch 52/100\n",
      "26/26 [==============================] - 0s 12ms/step - loss: 0.0710 - accuracy: 0.9751 - val_loss: 0.5702 - val_accuracy: 0.8235\n",
      "Epoch 53/100\n",
      "26/26 [==============================] - 0s 10ms/step - loss: 0.0790 - accuracy: 0.9602 - val_loss: 0.3734 - val_accuracy: 0.8431\n",
      "Epoch 54/100\n",
      "26/26 [==============================] - 0s 11ms/step - loss: 0.0691 - accuracy: 0.9652 - val_loss: 0.4717 - val_accuracy: 0.8431\n",
      "Epoch 55/100\n",
      "26/26 [==============================] - 0s 10ms/step - loss: 0.0415 - accuracy: 0.9801 - val_loss: 0.4297 - val_accuracy: 0.8431\n",
      "Epoch 56/100\n",
      "26/26 [==============================] - 0s 12ms/step - loss: 0.0577 - accuracy: 0.9602 - val_loss: 0.5296 - val_accuracy: 0.8235\n",
      "Epoch 57/100\n",
      "26/26 [==============================] - 0s 10ms/step - loss: 0.0561 - accuracy: 0.9652 - val_loss: 0.6600 - val_accuracy: 0.8039\n",
      "Epoch 58/100\n"
     ]
    },
    {
     "name": "stdout",
     "output_type": "stream",
     "text": [
      "26/26 [==============================] - 0s 10ms/step - loss: 0.0497 - accuracy: 0.9701 - val_loss: 0.6159 - val_accuracy: 0.8235\n",
      "Epoch 59/100\n",
      "26/26 [==============================] - 0s 8ms/step - loss: 0.0552 - accuracy: 0.9602 - val_loss: 0.5222 - val_accuracy: 0.8235\n",
      "Epoch 60/100\n",
      "26/26 [==============================] - 0s 9ms/step - loss: 0.0640 - accuracy: 0.9602 - val_loss: 0.5983 - val_accuracy: 0.8235\n",
      "Epoch 61/100\n",
      "26/26 [==============================] - 0s 9ms/step - loss: 0.0760 - accuracy: 0.9751 - val_loss: 0.3509 - val_accuracy: 0.8824\n",
      "Epoch 62/100\n",
      "26/26 [==============================] - 0s 10ms/step - loss: 0.0609 - accuracy: 0.9652 - val_loss: 0.4333 - val_accuracy: 0.8431\n",
      "Epoch 63/100\n",
      "26/26 [==============================] - 0s 9ms/step - loss: 0.0725 - accuracy: 0.9502 - val_loss: 0.6762 - val_accuracy: 0.8235\n",
      "Epoch 64/100\n",
      "26/26 [==============================] - 0s 9ms/step - loss: 0.0510 - accuracy: 0.9801 - val_loss: 0.4250 - val_accuracy: 0.8235\n",
      "Epoch 65/100\n",
      "26/26 [==============================] - 0s 9ms/step - loss: 0.0627 - accuracy: 0.9602 - val_loss: 0.5392 - val_accuracy: 0.8235\n",
      "Epoch 66/100\n",
      "26/26 [==============================] - 0s 8ms/step - loss: 0.0739 - accuracy: 0.9502 - val_loss: 0.5418 - val_accuracy: 0.8235\n",
      "Epoch 67/100\n",
      "26/26 [==============================] - 0s 9ms/step - loss: 0.0502 - accuracy: 0.9801 - val_loss: 0.5016 - val_accuracy: 0.8431\n",
      "Epoch 68/100\n",
      "26/26 [==============================] - 0s 9ms/step - loss: 0.0750 - accuracy: 0.9552 - val_loss: 0.5624 - val_accuracy: 0.8235\n",
      "Epoch 69/100\n",
      "26/26 [==============================] - 0s 9ms/step - loss: 0.0684 - accuracy: 0.9602 - val_loss: 0.9043 - val_accuracy: 0.8235\n",
      "Epoch 70/100\n",
      "26/26 [==============================] - 0s 9ms/step - loss: 0.0527 - accuracy: 0.9801 - val_loss: 0.4672 - val_accuracy: 0.8235\n",
      "Epoch 71/100\n",
      "26/26 [==============================] - 0s 9ms/step - loss: 0.0409 - accuracy: 0.9851 - val_loss: 0.7228 - val_accuracy: 0.8235\n",
      "Epoch 72/100\n",
      "26/26 [==============================] - 0s 9ms/step - loss: 0.0467 - accuracy: 0.9900 - val_loss: 0.5135 - val_accuracy: 0.8431\n",
      "Epoch 73/100\n",
      "26/26 [==============================] - 0s 9ms/step - loss: 0.0488 - accuracy: 0.9701 - val_loss: 0.7749 - val_accuracy: 0.8039\n",
      "Epoch 74/100\n",
      "26/26 [==============================] - 0s 9ms/step - loss: 0.0616 - accuracy: 0.9751 - val_loss: 0.4570 - val_accuracy: 0.8627\n",
      "Epoch 75/100\n",
      "26/26 [==============================] - 0s 9ms/step - loss: 0.0407 - accuracy: 0.9801 - val_loss: 0.7044 - val_accuracy: 0.8235\n",
      "Epoch 76/100\n",
      "26/26 [==============================] - 0s 9ms/step - loss: 0.0376 - accuracy: 0.9851 - val_loss: 0.5316 - val_accuracy: 0.8431\n",
      "Epoch 77/100\n",
      "26/26 [==============================] - 0s 9ms/step - loss: 0.0313 - accuracy: 0.9851 - val_loss: 0.5113 - val_accuracy: 0.8431\n",
      "Epoch 78/100\n",
      "26/26 [==============================] - 0s 9ms/step - loss: 0.0477 - accuracy: 0.9801 - val_loss: 0.6979 - val_accuracy: 0.8235\n",
      "Epoch 79/100\n",
      "26/26 [==============================] - 0s 9ms/step - loss: 0.0310 - accuracy: 0.9851 - val_loss: 0.5439 - val_accuracy: 0.8431\n",
      "Epoch 80/100\n",
      "26/26 [==============================] - 0s 9ms/step - loss: 0.0475 - accuracy: 0.9751 - val_loss: 0.6776 - val_accuracy: 0.8235\n",
      "Epoch 81/100\n",
      "26/26 [==============================] - 0s 9ms/step - loss: 0.0468 - accuracy: 0.9701 - val_loss: 0.5448 - val_accuracy: 0.8431\n",
      "Epoch 82/100\n",
      "26/26 [==============================] - 0s 9ms/step - loss: 0.0580 - accuracy: 0.9701 - val_loss: 0.6650 - val_accuracy: 0.8431\n",
      "Epoch 83/100\n",
      "26/26 [==============================] - 0s 9ms/step - loss: 0.0498 - accuracy: 0.9751 - val_loss: 0.5408 - val_accuracy: 0.8431\n",
      "Epoch 84/100\n",
      "26/26 [==============================] - 0s 9ms/step - loss: 0.0354 - accuracy: 0.9900 - val_loss: 0.7232 - val_accuracy: 0.8431\n",
      "Epoch 85/100\n",
      "26/26 [==============================] - 0s 9ms/step - loss: 0.0391 - accuracy: 0.9801 - val_loss: 0.6718 - val_accuracy: 0.8235\n",
      "Epoch 86/100\n",
      "26/26 [==============================] - 0s 10ms/step - loss: 0.0408 - accuracy: 0.9851 - val_loss: 0.5489 - val_accuracy: 0.8235\n",
      "Epoch 87/100\n",
      "26/26 [==============================] - 0s 9ms/step - loss: 0.0308 - accuracy: 0.9900 - val_loss: 0.8500 - val_accuracy: 0.8431\n",
      "Epoch 88/100\n",
      "26/26 [==============================] - 0s 10ms/step - loss: 0.0326 - accuracy: 0.9801 - val_loss: 0.6310 - val_accuracy: 0.8235\n",
      "Epoch 89/100\n",
      "26/26 [==============================] - 0s 9ms/step - loss: 0.0191 - accuracy: 0.9950 - val_loss: 0.8090 - val_accuracy: 0.8235\n",
      "Epoch 90/100\n",
      "26/26 [==============================] - 0s 10ms/step - loss: 0.0398 - accuracy: 0.9751 - val_loss: 0.6460 - val_accuracy: 0.8235\n",
      "Epoch 91/100\n",
      "26/26 [==============================] - 0s 9ms/step - loss: 0.0442 - accuracy: 0.9751 - val_loss: 0.9916 - val_accuracy: 0.8235\n",
      "Epoch 92/100\n",
      "26/26 [==============================] - 0s 9ms/step - loss: 0.0598 - accuracy: 0.9652 - val_loss: 0.6593 - val_accuracy: 0.8235\n",
      "Epoch 93/100\n",
      "26/26 [==============================] - 0s 9ms/step - loss: 0.0355 - accuracy: 0.9851 - val_loss: 0.7997 - val_accuracy: 0.8431\n",
      "Epoch 94/100\n",
      "26/26 [==============================] - 0s 10ms/step - loss: 0.0483 - accuracy: 0.9751 - val_loss: 0.8272 - val_accuracy: 0.8431\n",
      "Epoch 95/100\n",
      "26/26 [==============================] - 0s 10ms/step - loss: 0.0475 - accuracy: 0.9652 - val_loss: 0.7814 - val_accuracy: 0.8431\n",
      "Epoch 96/100\n",
      "26/26 [==============================] - 0s 9ms/step - loss: 0.0328 - accuracy: 0.9851 - val_loss: 0.7117 - val_accuracy: 0.8235\n",
      "Epoch 97/100\n",
      "26/26 [==============================] - 0s 10ms/step - loss: 0.0385 - accuracy: 0.9751 - val_loss: 0.6889 - val_accuracy: 0.8235\n",
      "Epoch 98/100\n",
      "26/26 [==============================] - 0s 9ms/step - loss: 0.0344 - accuracy: 0.9801 - val_loss: 0.6465 - val_accuracy: 0.8431\n",
      "Epoch 99/100\n",
      "26/26 [==============================] - 0s 11ms/step - loss: 0.0287 - accuracy: 0.9851 - val_loss: 0.6551 - val_accuracy: 0.8431\n",
      "Epoch 100/100\n",
      "26/26 [==============================] - 0s 9ms/step - loss: 0.0617 - accuracy: 0.9751 - val_loss: 0.7370 - val_accuracy: 0.8235\n"
     ]
    }
   ],
   "source": [
    "# Train the model \n",
    "#opt = SGD(lr=0.01)\n",
    "opt = \"adam\"\n",
    "model.compile(loss = \"sparse_categorical_crossentropy\", optimizer = opt, metrics=['accuracy'])\n",
    "history = model.fit(X_train, y_train, batch_size=8, epochs=100, validation_data=(X_test, y_test))\n",
    "\n",
    "\n",
    "datagen = ImageDataGenerator(\n",
    "        rotation_range=0, # rotation\n",
    "        width_shift_range=0.01, # horizontal shift\n",
    "        height_shift_range=0.01, # vertical shift\n",
    "        zoom_range=0.01, # zoom\n",
    "        horizontal_flip=False # horizontal flip\n",
    "        #brightness_range=[0.2,1.2] # brightness\n",
    "        )\n",
    "\n",
    "#history = model.fit(datagen.flow(X_train, y_train, batch_size=8),steps_per_epoch=len(X_train)/8, \n",
    "#                     epochs=100, validation_data=(X_test, y_test))"
   ]
  },
  {
   "cell_type": "code",
   "execution_count": 9,
   "metadata": {},
   "outputs": [
    {
     "data": {
      "image/png": "[encoded data removed]",
      "text/plain": [
       "<Figure size 432x288 with 1 Axes>"
      ]
     },
     "metadata": {
      "needs_background": "light"
     },
     "output_type": "display_data"
    },
    {
     "data": {
      "image/png": "[encoded data removed]",
      "text/plain": [
       "<Figure size 432x288 with 1 Axes>"
      ]
     },
     "metadata": {
      "needs_background": "light"
     },
     "output_type": "display_data"
    }
   ],
   "source": [
    "# summarize history for loss\n",
    "plt.plot(history.history['loss'])\n",
    "plt.plot(history.history['val_loss'])\n",
    "plt.title('model loss')\n",
    "plt.ylabel('loss')\n",
    "plt.xlabel('epoch')\n",
    "plt.legend(['train', 'test'], loc='upper left')\n",
    "plt.show()\n",
    "\n",
    "# summarize history for accuracy\n",
    "plt.plot(history.history['accuracy'])\n",
    "plt.plot(history.history['val_accuracy'])\n",
    "plt.title('model accuracy')\n",
    "plt.ylabel('accuracy')\n",
    "plt.xlabel('epoch')\n",
    "plt.legend(['train', 'test'], loc='upper left')\n",
    "plt.show()"
   ]
  },
  {
   "cell_type": "code",
   "execution_count": 10,
   "metadata": {},
   "outputs": [
    {
     "name": "stdout",
     "output_type": "stream",
     "text": [
      "0\n",
      "1/1 [==============================] - 0s 78ms/step\n",
      "[[9.9993694e-01 6.3049229e-05]]\n"
     ]
    },
    {
     "data": {
      "image/png": "[encoded data removed]",
      "text/plain": [
       "<Figure size 432x288 with 1 Axes>"
      ]
     },
     "metadata": {
      "needs_background": "light"
     },
     "output_type": "display_data"
    }
   ],
   "source": [
    "# Use the model to make predictions\n",
    "n = 23\n",
    "plt.imshow(X_train[n], cmap='gray')\n",
    "print(y_train[n])\n",
    "sample = X_train[n].reshape(1,64,64,1)\n",
    "\n",
    "prediction = model.predict(sample)\n",
    "print(prediction)"
   ]
  },
  {
   "cell_type": "code",
   "execution_count": 11,
   "metadata": {},
   "outputs": [
    {
     "name": "stdout",
     "output_type": "stream",
     "text": [
      "1\n",
      "(1, 64, 64, 1)\n",
      "1/1 [==============================] - 0s 14ms/step\n",
      "[[5.453945e-07 9.999994e-01]]\n"
     ]
    },
    {
     "data": {
      "image/png": "[encoded data removed]",
      "text/plain": [
       "<Figure size 432x288 with 1 Axes>"
      ]
     },
     "metadata": {
      "needs_background": "light"
     },
     "output_type": "display_data"
    }
   ],
   "source": [
    "\n",
    "# Use the model to make predictions on the test test\n",
    "n = 2\n",
    "plt.imshow(X_test[n], cmap='gray')\n",
    "print(y_test[n])\n",
    "sample = X_test[n].reshape(1,64,64,1)\n",
    "print(sample.shape)\n",
    "prediction = model.predict(sample)\n",
    "print(prediction)"
   ]
  },
  {
   "cell_type": "code",
   "execution_count": 12,
   "metadata": {},
   "outputs": [],
   "source": [
    "# Save the model \n",
    "#history.model.save('equationClassifier.h5')\n",
    "history.model.save('XXXequationClassifier.h5')"
   ]
  },
  {
   "cell_type": "code",
   "execution_count": null,
   "metadata": {},
   "outputs": [],
   "source": []
  }
 ],
 "metadata": {
  "kernelspec": {
   "display_name": "Python 3 (ipykernel)",
   "language": "python",
   "name": "python3"
  },
  "language_info": {
   "codemirror_mode": {
    "name": "ipython",
    "version": 3
   },
   "file_extension": ".py",
   "mimetype": "text/x-python",
   "name": "python",
   "nbconvert_exporter": "python",
   "pygments_lexer": "ipython3",
   "version": "3.9.13"
  }
 },
 "nbformat": 4,
 "nbformat_minor": 2
}
