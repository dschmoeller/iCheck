{
 "cells": [
  {
   "cell_type": "code",
   "execution_count": 1,
   "id": "3fbf2e17",
   "metadata": {},
   "outputs": [],
   "source": [
    "import numpy as np\n",
    "import cv2\n",
    "import matplotlib.pyplot as plt\n",
    "\n"
   ]
  },
  {
   "cell_type": "code",
   "execution_count": 2,
   "id": "a3a783c5",
   "metadata": {},
   "outputs": [],
   "source": [
    "# 1. Convex hull \n",
    "# 2. Try to find a separating line \n",
    "# 3. Remove template line? (If canny filter does find a horixontal line)"
   ]
  },
  {
   "cell_type": "code",
   "execution_count": 3,
   "id": "8d12878d",
   "metadata": {},
   "outputs": [
    {
     "data": {
      "text/plain": [
       "<matplotlib.image.AxesImage at 0x11b9fc220>"
      ]
     },
     "execution_count": 3,
     "metadata": {},
     "output_type": "execute_result"
    },
    {
     "data": {
      "image/png": "[encoded data removed]",
      "text/plain": [
       "<Figure size 432x288 with 1 Axes>"
      ]
     },
     "metadata": {
      "needs_background": "light"
     },
     "output_type": "display_data"
    }
   ],
   "source": [
    "# Load the image and convert to grayscale \n",
    "image = cv2.imread('testImages/multiDigitSample4.jpg')\n",
    "\n",
    "# Grayscale the image\n",
    "image = cv2.cvtColor(image, cv2.COLOR_BGR2GRAY)\n",
    "\n",
    "# Invert colors, so it's conform with MNIST \n",
    "#image = 1 - image\n",
    "\n",
    "# Resize the image \n",
    "image = cv2.resize(image, (64,64))\n",
    "\n",
    "# Normalize the image\n",
    "#image = image.astype('float32')\n",
    "#image /= 255\n",
    "\n",
    "# Plot the input image \n",
    "plt.imshow(image, cmap='gray')\n",
    "\n"
   ]
  },
  {
   "cell_type": "code",
   "execution_count": 4,
   "id": "957896bd",
   "metadata": {},
   "outputs": [],
   "source": [
    "# Find convex hull\n",
    "\n",
    "edges= cv2.Canny(image, 100,200)\n",
    "contours, hierarchy= cv2.findContours(edges.copy(), cv2.RETR_EXTERNAL, cv2.CHAIN_APPROX_NONE)\n",
    "\n",
    "#thresh = 200\n",
    "#cv2.threshold(image, thresh, 255, cv2.THRESH_BINARY)\n",
    "#contours, hierarchy = cv2.findContours(image, cv2.RETR_TREE, cv2.CHAIN_APPROX_SIMPLE)\n",
    "\n",
    "singleDigitImageList = []\n",
    "for contour in contours:\n",
    "    \n",
    "    # Check validity of contour\n",
    "    # TODO!\n",
    "    \n",
    "    # Draw the contours\n",
    "    #hull= cv2.convexHull(contour)\n",
    "    #cv2.drawContours(image, [hull],0,(0,255,0),2)\n",
    "    \n",
    "    # Extract min and max points on x axis in order to separate the contours \n",
    "    xList = []\n",
    "    yList = []\n",
    "    for point in contour:\n",
    "        # Extract x and y points from contour and store them in a list \n",
    "        xList.append(point[0][0])\n",
    "        yList.append(point[0][1])\n",
    "    \n",
    "    # Extract min and max values   \n",
    "    xMin = min(xList)\n",
    "    xMax = max(xList)\n",
    "    yMin = min(yList)\n",
    "    yMax = max(yList)\n",
    "\n",
    "    # Create rectangle mask based on contour extremas and mask out the digit\n",
    "    #cv2.rectangle(image, (xMin,yMin), (xMax,yMax), (0,0,0),1)\n",
    "    \n",
    "    # Create dedicated image for single digit ROI\n",
    "    padding = 10\n",
    "    width = xMax - xMin + 2*padding \n",
    "    length = yMax - yMin + 2*padding\n",
    "    blankImage = np.zeros([length,width], dtype=np.uint8)\n",
    "    blankImage[:] = 255\n",
    "    blankImage[padding:-padding, padding:-padding] = image[yMin:yMax, xMin:xMax]\n",
    "    blankImage = cv2.resize(blankImage, (64,64))\n",
    "    # TODO: Inverse colors in order to fit the MNIST dataset \n",
    "    singleDigitImageList.append(blankImage)\n",
    "    \n",
    "    \n",
    "    "
   ]
  },
  {
   "cell_type": "code",
   "execution_count": 7,
   "id": "96b5e5cb",
   "metadata": {},
   "outputs": [
    {
     "data": {
      "text/plain": [
       "<matplotlib.image.AxesImage at 0x11bc25fa0>"
      ]
     },
     "execution_count": 7,
     "metadata": {},
     "output_type": "execute_result"
    },
    {
     "data": {
      "image/png": "[encoded data removed]",
      "text/plain": [
       "<Figure size 432x288 with 1 Axes>"
      ]
     },
     "metadata": {
      "needs_background": "light"
     },
     "output_type": "display_data"
    }
   ],
   "source": [
    "# Feed the respective digit image into the (ML based single digit) detector\n",
    "# TODO\n",
    "\n",
    "plt.imshow(singleDigitImageList[1], cmap=\"gray\")"
   ]
  },
  {
   "cell_type": "code",
   "execution_count": null,
   "id": "ef25ba83",
   "metadata": {},
   "outputs": [],
   "source": []
  },
  {
   "cell_type": "code",
   "execution_count": null,
   "id": "2ea5fdc0",
   "metadata": {},
   "outputs": [],
   "source": []
  }
 ],
 "metadata": {
  "kernelspec": {
   "display_name": "Python 3 (ipykernel)",
   "language": "python",
   "name": "python3"
  },
  "language_info": {
   "codemirror_mode": {
    "name": "ipython",
    "version": 3
   },
   "file_extension": ".py",
   "mimetype": "text/x-python",
   "name": "python",
   "nbconvert_exporter": "python",
   "pygments_lexer": "ipython3",
   "version": "3.9.13"
  }
 },
 "nbformat": 4,
 "nbformat_minor": 5
}
