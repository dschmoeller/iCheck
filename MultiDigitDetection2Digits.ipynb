{
 "cells": [
  {
   "cell_type": "code",
   "execution_count": 1,
   "id": "5cb275ca",
   "metadata": {},
   "outputs": [
    {
     "name": "stdout",
     "output_type": "stream",
     "text": [
      "Shape of training dataset: (60000, 28, 28)\n",
      "Shape of test dataset: (10000, 28, 28)\n",
      "Label for image: 5\n"
     ]
    },
    {
     "data": {
      "image/png": "[encoded data removed]",
      "text/plain": [
       "<Figure size 432x288 with 1 Axes>"
      ]
     },
     "metadata": {
      "needs_background": "light"
     },
     "output_type": "display_data"
    }
   ],
   "source": [
    "#Module Imports\n",
    "from __future__ import print_function\n",
    "import random\n",
    "from os import listdir\n",
    "import glob\n",
    "\n",
    "import numpy as np\n",
    "from scipy import misc\n",
    "import tensorflow as tf\n",
    "import h5py\n",
    "import cv2\n",
    "\n",
    "from keras.datasets import mnist\n",
    "from keras.utils import np_utils\n",
    "\n",
    "import matplotlib.pyplot as plt\n",
    "%matplotlib inline\n",
    "\n",
    "#Setting the random seed so that the results are reproducible. \n",
    "random.seed(101)\n",
    "\n",
    "#Setting variables for MNIST image dimensions\n",
    "mnist_image_height = 28\n",
    "mnist_image_width = 28\n",
    "\n",
    "#Import MNIST data from keras\n",
    "(X_train, y_train), (X_test, y_test) = mnist.load_data()\n",
    "\n",
    "#Checking the downloaded data\n",
    "print(\"Shape of training dataset: {}\".format(np.shape(X_train)))\n",
    "print(\"Shape of test dataset: {}\".format(np.shape(X_test)))\n",
    "\n",
    "\n",
    "plt.figure()\n",
    "plt.imshow(X_train[0], cmap='gray')\n",
    "\n",
    "print(\"Label for image: {}\".format(y_train[0]))"
   ]
  },
  {
   "cell_type": "code",
   "execution_count": 16,
   "id": "e1fa5f23",
   "metadata": {},
   "outputs": [],
   "source": [
    "def build_synth_data(data,labels,dataset_size):\n",
    "    \n",
    "    #Define synthetic image dimensions\n",
    "    synth_img_height = 64\n",
    "    synth_img_width = 64\n",
    "    \n",
    "    #Define synthetic data\n",
    "    synth_data = np.ndarray(shape=(dataset_size,synth_img_height,synth_img_width),\n",
    "                           dtype=np.float32)\n",
    "    \n",
    "    #Define synthetic labels\n",
    "    synth_labels = [] \n",
    "    \n",
    "    #For a loop till the size of the synthetic dataset\n",
    "    for i in range(0,dataset_size):\n",
    "        \n",
    "        #Pick a random number of digits to be in the dataset\n",
    "        num_digits = random.randint(1,2)\n",
    "        \n",
    "        #Randomly sampling indices to extract digits + labels afterwards\n",
    "        s_indices = [random.randint(0,len(data)-1) for p in range(0,num_digits)]\n",
    "        \n",
    "        #stitch images together\n",
    "        new_image = np.hstack([X_train[index] for index in s_indices])\n",
    "        #stitch the labels together\n",
    "        new_label =  [y_train[index] for index in s_indices]\n",
    "        \n",
    "        \n",
    "        #Loop till number of digits - 5, to concatenate blanks images, and blank labels together\n",
    "        for j in range(0,2-num_digits):\n",
    "            new_image = np.hstack([new_image,np.zeros(shape=(mnist_image_height,\n",
    "                                                                   mnist_image_width))])\n",
    "            new_label.append(10) #Might need to remove this step\n",
    "        \n",
    "        #Resize image\n",
    "        #new_image = misc.imresize(new_image,(64,64))\n",
    "        new_image = cv2.resize(new_image,(64,64))\n",
    "        \n",
    "        #Assign the image to synth_data\n",
    "        synth_data[i,:,:] = new_image\n",
    "        \n",
    "        #Assign the label to synth_data\n",
    "        synth_labels.append(tuple(new_label))\n",
    "        \n",
    "    \n",
    "    #Return the synthetic dataset\n",
    "    return synth_data,synth_labels\n",
    "\n",
    "#Building the training dataset\n",
    "X_synth_train,y_synth_train = build_synth_data(X_train,y_train,60000)\n",
    "\n",
    "#Building the test dataset\n",
    "X_synth_test,y_synth_test = build_synth_data(X_test,y_test,10000)\n",
    "\n"
   ]
  },
  {
   "cell_type": "code",
   "execution_count": 22,
   "id": "5fda4b8a",
   "metadata": {},
   "outputs": [
    {
     "data": {
      "text/plain": [
       "(4, 5)"
      ]
     },
     "execution_count": 22,
     "metadata": {},
     "output_type": "execute_result"
    },
    {
     "data": {
      "image/png": "[encoded data removed]",
      "text/plain": [
       "<Figure size 432x288 with 1 Axes>"
      ]
     },
     "metadata": {
      "needs_background": "light"
     },
     "output_type": "display_data"
    }
   ],
   "source": [
    "# Plot synthetic set \n",
    "\n",
    "n = 5\n",
    "\n",
    "#checking a sample\n",
    "plt.figure()\n",
    "plt.imshow(X_synth_train[n], cmap='gray')\n",
    "y_synth_train[n]"
   ]
  },
  {
   "cell_type": "code",
   "execution_count": 23,
   "id": "12919a28",
   "metadata": {},
   "outputs": [
    {
     "data": {
      "text/plain": [
       "(60000, 11)"
      ]
     },
     "execution_count": 23,
     "metadata": {},
     "output_type": "execute_result"
    }
   ],
   "source": [
    "#Converting labels to One-hot representations of shape (set_size,digits,classes)\n",
    "possible_classes = 11\n",
    "\n",
    "def convert_labels(labels):\n",
    "    \n",
    "    #As per Keras conventions, the multiple labels need to be of the form [array_digit1,...5]\n",
    "    #Each digit array will be of shape (60000,11)\n",
    "    \n",
    "    #Code below could be better, but cba for now. \n",
    "    \n",
    "    #Declare output ndarrays\n",
    "    dig0_arr = np.ndarray(shape=(len(labels),possible_classes))\n",
    "    dig1_arr = np.ndarray(shape=(len(labels),possible_classes))\n",
    "    \n",
    "    for index,label in enumerate(labels):\n",
    "        #Using np_utils from keras to OHE the labels in the image\n",
    "        dig0_arr[index,:] = np_utils.to_categorical(label[0],possible_classes)\n",
    "        dig1_arr[index,:] = np_utils.to_categorical(label[1],possible_classes)\n",
    "        \n",
    "    return [dig0_arr,dig1_arr]\n",
    "\n",
    "train_labels = convert_labels(y_synth_train)\n",
    "test_labels = convert_labels(y_synth_test)\n",
    "\n",
    "#Checking the shape of the OHE array for the first digit position\n",
    "np.shape(train_labels[0])"
   ]
  },
  {
   "cell_type": "code",
   "execution_count": 24,
   "id": "08cf5ae2",
   "metadata": {},
   "outputs": [
    {
     "data": {
      "text/plain": [
       "(60000, 64, 64, 1)"
      ]
     },
     "execution_count": 24,
     "metadata": {},
     "output_type": "execute_result"
    }
   ],
   "source": [
    "def prep_data_keras(img_data):\n",
    "    \n",
    "    #Reshaping data for keras, with tensorflow as backend\n",
    "    img_data = img_data.reshape(len(img_data),64,64,1)\n",
    "    \n",
    "    #Converting everything to floats\n",
    "    img_data = img_data.astype('float32')\n",
    "    \n",
    "    #Normalizing values between 0 and 1\n",
    "    img_data /= 255\n",
    "    \n",
    "    return img_data\n",
    "\n",
    "train_images = prep_data_keras(X_synth_train)\n",
    "test_images = prep_data_keras(X_synth_test)\n",
    "\n",
    "np.shape(train_images)"
   ]
  },
  {
   "cell_type": "code",
   "execution_count": 25,
   "id": "c6c72319",
   "metadata": {},
   "outputs": [
    {
     "name": "stderr",
     "output_type": "stream",
     "text": [
      "2022-09-25 12:39:03.234379: I tensorflow/core/platform/cpu_feature_guard.cc:193] This TensorFlow binary is optimized with oneAPI Deep Neural Network Library (oneDNN) to use the following CPU instructions in performance-critical operations:  AVX2 FMA\n",
      "To enable them in other operations, rebuild TensorFlow with the appropriate compiler flags.\n"
     ]
    },
    {
     "name": "stdout",
     "output_type": "stream",
     "text": [
      "Epoch 1/12\n",
      "469/469 [==============================] - 13s 25ms/step - loss: 2.0247 - dense_1_loss: 1.0939 - dense_2_loss: 0.9308 - dense_1_accuracy: 0.6254 - dense_2_accuracy: 0.6861 - val_loss: 0.7871 - val_dense_1_loss: 0.3567 - val_dense_2_loss: 0.4304 - val_dense_1_accuracy: 0.8921 - val_dense_2_accuracy: 0.8807\n",
      "Epoch 2/12\n",
      "469/469 [==============================] - 11s 24ms/step - loss: 1.0891 - dense_1_loss: 0.5391 - dense_2_loss: 0.5500 - dense_1_accuracy: 0.8254 - dense_2_accuracy: 0.8127 - val_loss: 0.5530 - val_dense_1_loss: 0.2448 - val_dense_2_loss: 0.3082 - val_dense_1_accuracy: 0.9257 - val_dense_2_accuracy: 0.9121\n",
      "Epoch 3/12\n",
      "469/469 [==============================] - 12s 25ms/step - loss: 0.8683 - dense_1_loss: 0.4188 - dense_2_loss: 0.4495 - dense_1_accuracy: 0.8644 - dense_2_accuracy: 0.8497 - val_loss: 0.4333 - val_dense_1_loss: 0.1905 - val_dense_2_loss: 0.2428 - val_dense_1_accuracy: 0.9445 - val_dense_2_accuracy: 0.9305\n",
      "Epoch 4/12\n",
      "469/469 [==============================] - 12s 25ms/step - loss: 0.7454 - dense_1_loss: 0.3517 - dense_2_loss: 0.3936 - dense_1_accuracy: 0.8868 - dense_2_accuracy: 0.8703 - val_loss: 0.3686 - val_dense_1_loss: 0.1633 - val_dense_2_loss: 0.2053 - val_dense_1_accuracy: 0.9524 - val_dense_2_accuracy: 0.9412\n",
      "Epoch 5/12\n",
      "469/469 [==============================] - 12s 25ms/step - loss: 0.6678 - dense_1_loss: 0.3177 - dense_2_loss: 0.3501 - dense_1_accuracy: 0.8973 - dense_2_accuracy: 0.8863 - val_loss: 0.3365 - val_dense_1_loss: 0.1475 - val_dense_2_loss: 0.1890 - val_dense_1_accuracy: 0.9560 - val_dense_2_accuracy: 0.9452\n",
      "Epoch 6/12\n",
      "469/469 [==============================] - 12s 26ms/step - loss: 0.6117 - dense_1_loss: 0.2930 - dense_2_loss: 0.3186 - dense_1_accuracy: 0.9069 - dense_2_accuracy: 0.8970 - val_loss: 0.3007 - val_dense_1_loss: 0.1357 - val_dense_2_loss: 0.1650 - val_dense_1_accuracy: 0.9590 - val_dense_2_accuracy: 0.9504\n",
      "Epoch 7/12\n",
      "469/469 [==============================] - 12s 26ms/step - loss: 0.5723 - dense_1_loss: 0.2695 - dense_2_loss: 0.3028 - dense_1_accuracy: 0.9143 - dense_2_accuracy: 0.9026 - val_loss: 0.2799 - val_dense_1_loss: 0.1247 - val_dense_2_loss: 0.1552 - val_dense_1_accuracy: 0.9623 - val_dense_2_accuracy: 0.9528\n",
      "Epoch 8/12\n",
      "469/469 [==============================] - 13s 28ms/step - loss: 0.5384 - dense_1_loss: 0.2554 - dense_2_loss: 0.2829 - dense_1_accuracy: 0.9213 - dense_2_accuracy: 0.9082 - val_loss: 0.2733 - val_dense_1_loss: 0.1221 - val_dense_2_loss: 0.1512 - val_dense_1_accuracy: 0.9609 - val_dense_2_accuracy: 0.9552\n",
      "Epoch 9/12\n",
      "469/469 [==============================] - 13s 27ms/step - loss: 0.5104 - dense_1_loss: 0.2419 - dense_2_loss: 0.2685 - dense_1_accuracy: 0.9236 - dense_2_accuracy: 0.9138 - val_loss: 0.2455 - val_dense_1_loss: 0.1084 - val_dense_2_loss: 0.1371 - val_dense_1_accuracy: 0.9677 - val_dense_2_accuracy: 0.9591\n",
      "Epoch 10/12\n",
      "469/469 [==============================] - 13s 27ms/step - loss: 0.4860 - dense_1_loss: 0.2302 - dense_2_loss: 0.2558 - dense_1_accuracy: 0.9283 - dense_2_accuracy: 0.9194 - val_loss: 0.2396 - val_dense_1_loss: 0.1095 - val_dense_2_loss: 0.1302 - val_dense_1_accuracy: 0.9660 - val_dense_2_accuracy: 0.9602\n",
      "Epoch 11/12\n",
      "469/469 [==============================] - 13s 27ms/step - loss: 0.4653 - dense_1_loss: 0.2213 - dense_2_loss: 0.2440 - dense_1_accuracy: 0.9313 - dense_2_accuracy: 0.9216 - val_loss: 0.2299 - val_dense_1_loss: 0.1049 - val_dense_2_loss: 0.1250 - val_dense_1_accuracy: 0.9674 - val_dense_2_accuracy: 0.9633\n",
      "Epoch 12/12\n",
      "469/469 [==============================] - 13s 27ms/step - loss: 0.4503 - dense_1_loss: 0.2127 - dense_2_loss: 0.2376 - dense_1_accuracy: 0.9329 - dense_2_accuracy: 0.9251 - val_loss: 0.2136 - val_dense_1_loss: 0.0959 - val_dense_2_loss: 0.1177 - val_dense_1_accuracy: 0.9700 - val_dense_2_accuracy: 0.9645\n"
     ]
    },
    {
     "data": {
      "text/plain": [
       "<keras.callbacks.History at 0x125eec2e0>"
      ]
     },
     "execution_count": 25,
     "metadata": {},
     "output_type": "execute_result"
    }
   ],
   "source": [
    "\n",
    "#Importing relevant keras modules\n",
    "from keras.models import Sequential, Model\n",
    "from keras.layers import Dense, Dropout, Activation, Flatten, Input\n",
    "from keras.layers import Convolution2D, MaxPooling2D\n",
    "\n",
    "#Building the model\n",
    "\n",
    "batch_size = 128\n",
    "nb_classes = 11\n",
    "nb_epoch = 12\n",
    "\n",
    "#image input dimensions\n",
    "img_rows = 64\n",
    "img_cols = 64\n",
    "img_channels = 1\n",
    "\n",
    "#number of convulation filters to use\n",
    "nb_filters = 32\n",
    "# size of pooling area for max pooling\n",
    "pool_size = (2, 2)\n",
    "# convolution kernel size\n",
    "kernel_size = (3, 3)\n",
    "\n",
    "#defining the input\n",
    "inputs = Input(shape=(img_rows,img_cols,img_channels))\n",
    "\n",
    "#Model taken from keras example. Worked well for a digit, dunno for multiple\n",
    "#cov = Convolution2D(nb_filters,kernel_size[0],kernel_size[1],border_mode='same')(inputs)\n",
    "cov = Convolution2D(nb_filters,kernel_size[0],kernel_size[1])(inputs)\n",
    "cov = Activation('relu')(cov)\n",
    "cov = Convolution2D(nb_filters,kernel_size[0],kernel_size[1])(cov)\n",
    "cov = Activation('relu')(cov)\n",
    "cov = MaxPooling2D(pool_size=pool_size)(cov)\n",
    "cov = Dropout(0.25)(cov)\n",
    "cov_out = Flatten()(cov)\n",
    "\n",
    "\n",
    "#Dense Layers\n",
    "cov2 = Dense(128, activation='relu')(cov_out)\n",
    "cov2 = Dropout(0.5)(cov2)\n",
    "\n",
    "\n",
    "\n",
    "#Prediction layers\n",
    "c0 = Dense(nb_classes, activation='softmax')(cov2)\n",
    "c1 = Dense(nb_classes, activation='softmax')(cov2)\n",
    "\n",
    "#Defining the model\n",
    "model = Model(inputs=inputs, outputs=[c0,c1])\n",
    "\n",
    "#Compiling the model\n",
    "model.compile(loss='categorical_crossentropy',optimizer='adam',metrics=['accuracy'])\n",
    "\n",
    "#Fitting the model\n",
    "model.fit(train_images,train_labels,batch_size=batch_size, epochs=nb_epoch,verbose=1,\n",
    "          validation_data=(test_images, test_labels) )"
   ]
  },
  {
   "cell_type": "code",
   "execution_count": 38,
   "id": "a19b97e5",
   "metadata": {},
   "outputs": [
    {
     "name": "stdout",
     "output_type": "stream",
     "text": [
      "(64, 64)\n",
      "1/1 [==============================] - 0s 33ms/step\n",
      "Digit 1 is:  6\n",
      "Digit 2 is:  9\n"
     ]
    },
    {
     "data": {
      "image/png": "[encoded data removed]",
      "text/plain": [
       "<Figure size 432x288 with 1 Axes>"
      ]
     },
     "metadata": {
      "needs_background": "light"
     },
     "output_type": "display_data"
    }
   ],
   "source": [
    "# Load training sample\n",
    "n=11\n",
    "\n",
    "imageTrain = X_synth_train[n]\n",
    "print(imageTrain.shape)\n",
    "# Plot the input image \n",
    "plt.imshow(imageTrain, cmap='gray')\n",
    "\n",
    "# Predict taining sample\n",
    "imageTrain = imageTrain.reshape((1,64,64,1))\n",
    "prediction = model.predict(imageTrain)\n",
    "\n",
    "# Plot results \n",
    "for i in range(0, 2): \n",
    "    digitResult = np.argmax(prediction[i])\n",
    "    if digitResult == 10:\n",
    "        print(\"Digit\", i+1, \"is: _\")\n",
    "    else: \n",
    "        print(\"Digit\", i+1, \"is: \", digitResult)"
   ]
  },
  {
   "cell_type": "code",
   "execution_count": 51,
   "id": "b8b03dbd",
   "metadata": {},
   "outputs": [
    {
     "name": "stdout",
     "output_type": "stream",
     "text": [
      "1/1 [==============================] - 0s 28ms/step\n",
      "Digit 1 is:  2\n",
      "Digit 2 is:  3\n"
     ]
    },
    {
     "data": {
      "image/png": "[encoded data removed]",
      "text/plain": [
       "<Figure size 432x288 with 1 Axes>"
      ]
     },
     "metadata": {
      "needs_background": "light"
     },
     "output_type": "display_data"
    }
   ],
   "source": [
    "# Predict arbitrary sample\n",
    "\n",
    "# Load the image and convert to grayscale \n",
    "image = cv2.imread('testImages/multiDigitSample6.jpg')\n",
    "\n",
    "# Grayscale the image\n",
    "image = cv2.cvtColor(image, cv2.COLOR_BGR2GRAY)\n",
    "\n",
    "# Invert colors, so it's conform with MNIST \n",
    "image = 1 - image\n",
    "\n",
    "\n",
    "# Canny image (because the MNIST data samples are \"inverted\" in color space)\n",
    "#image = cv2.Canny(image, 100, 200)\n",
    "\n",
    "# Dilate the canny image in order to get more dense digits\n",
    "#kernel = np.ones((5,5),np.uint8)\n",
    "#image = cv2.dilate(image, kernel, iterations = 1)\n",
    "\n",
    "# Resize the image \n",
    "image = cv2.resize(image, (64,64))\n",
    "\n",
    "# Normalize the image\n",
    "image = image.astype('float32')\n",
    "image /= 255\n",
    "\n",
    "# Plot the input image \n",
    "plt.imshow(image, cmap='gray')\n",
    "\n",
    "# Use (MNIST trained) model in order to predict the number\n",
    "image = image.reshape((1,64,64,1))\n",
    "prediction = model.predict(image)\n",
    "\n",
    "# Plot results \n",
    "for i in range(0, 2): \n",
    "    digitResult = np.argmax(prediction[i])\n",
    "    if digitResult == 10:\n",
    "        print(\"Digit\", i+1, \"is: _\")\n",
    "    else: \n",
    "        print(\"Digit\", i+1, \"is: \", digitResult)\n",
    "    "
   ]
  },
  {
   "cell_type": "code",
   "execution_count": null,
   "id": "8324b45e",
   "metadata": {},
   "outputs": [],
   "source": [
    "\n",
    "\n"
   ]
  },
  {
   "cell_type": "code",
   "execution_count": null,
   "id": "f32a706d",
   "metadata": {},
   "outputs": [],
   "source": []
  }
 ],
 "metadata": {
  "kernelspec": {
   "display_name": "Python 3 (ipykernel)",
   "language": "python",
   "name": "python3"
  },
  "language_info": {
   "codemirror_mode": {
    "name": "ipython",
    "version": 3
   },
   "file_extension": ".py",
   "mimetype": "text/x-python",
   "name": "python",
   "nbconvert_exporter": "python",
   "pygments_lexer": "ipython3",
   "version": "3.9.13"
  }
 },
 "nbformat": 4,
 "nbformat_minor": 5
}
