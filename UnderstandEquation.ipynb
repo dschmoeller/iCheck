{
 "cells": [
  {
   "cell_type": "code",
   "execution_count": 1,
   "id": "92713201",
   "metadata": {},
   "outputs": [],
   "source": [
    "import numpy as np\n",
    "import matplotlib.pyplot as plt\n",
    "import matplotlib.image as mpimg\n",
    "import cv2\n",
    "import math\n",
    "import os\n",
    "\n",
    "from imutils.object_detection import non_max_suppression"
   ]
  },
  {
   "cell_type": "code",
   "execution_count": 2,
   "id": "dd742624",
   "metadata": {},
   "outputs": [],
   "source": [
    "# Helper functions\n",
    "\n",
    "# get grayscale image\n",
    "def get_grayscale(image):\n",
    "    return cv2.cvtColor(image, cv2.COLOR_BGR2GRAY)\n",
    "\n",
    "# noise removal\n",
    "def remove_noise(image):\n",
    "    return cv2.medianBlur(image,5)\n",
    " \n",
    "#thresholding\n",
    "def thresholding(image):\n",
    "    return cv2.threshold(image, 0, 255, cv2.THRESH_BINARY + cv2.THRESH_OTSU)[1]\n",
    "\n",
    "#dilation\n",
    "def dilate(image):\n",
    "    kernel = np.ones((3,3),np.uint8)\n",
    "    return cv2.dilate(image, kernel, iterations = 1)\n",
    "    \n",
    "#erosion\n",
    "def erode(image):\n",
    "    kernel = np.ones((5,5),np.uint8)\n",
    "    return cv2.erode(image, kernel, iterations = 1)\n",
    "\n",
    "#opening - erosion followed by dilation\n",
    "def opening(image):\n",
    "    kernel = np.ones((5,5),np.uint8)\n",
    "    return cv2.morphologyEx(image, cv2.MORPH_OPEN, kernel)\n",
    "\n",
    "#canny edge detection\n",
    "def canny(image):\n",
    "    return cv2.Canny(image, 100, 200)\n",
    "\n",
    "#skew correction\n",
    "def deskew(image):\n",
    "    coords = np.column_stack(np.where(image > 0))\n",
    "    angle = cv2.minAreaRect(coords)[-1]\n",
    "    if angle < -45 :\n",
    "        angle = -(90 + angle)\n",
    "    else:\n",
    "        angle = -angle\n",
    "    (h, w) = image.shape[:2]\n",
    "    center = (w // 2, h // 2)\n",
    "    M = cv2.getRotationMatrix2D(center, angle, 1.0)\n",
    "    rotated = cv2.warpAffine(image, M, (w, h), flags=cv2.INTER_CUBIC, borderMode=cv2.BORDER_REPLICATE)\n",
    "    return rotated\n",
    "\n",
    "#template matching\n",
    "def match_template(image, template):\n",
    "    return cv2.matchTemplate(image, template, cv2.TM_CCOEFF_NORMED) "
   ]
  },
  {
   "cell_type": "code",
   "execution_count": 3,
   "id": "8eb3e380",
   "metadata": {},
   "outputs": [
    {
     "data": {
      "text/plain": [
       "<matplotlib.image.AxesImage at 0x11f177910>"
      ]
     },
     "execution_count": 3,
     "metadata": {},
     "output_type": "execute_result"
    },
    {
     "data": {
      "image/png": "[encoded data removed]",
      "text/plain": [
       "<Figure size 720x720 with 1 Axes>"
      ]
     },
     "metadata": {
      "needs_background": "light"
     },
     "output_type": "display_data"
    }
   ],
   "source": [
    "# Read and preprocess image\n",
    "\n",
    "#image = cv2.imread('testImages/class_a/e1.jpg')\n",
    "#image = cv2.imread('testImages/class_a/equ1.jpg')\n",
    "image = cv2.imread('testImages/class_a/equ31.jpg')\n",
    "imageCopy = image.copy()\n",
    "image = get_grayscale(image)\n",
    "image = thresholding(image)\n",
    "\n",
    "# Plot equation image\n",
    "plt.figure(figsize=(10,10))\n",
    "plt.imshow(image, cmap='gray')"
   ]
  },
  {
   "cell_type": "code",
   "execution_count": 4,
   "id": "73612ac4",
   "metadata": {},
   "outputs": [
    {
     "data": {
      "text/plain": [
       "<matplotlib.image.AxesImage at 0x11f481df0>"
      ]
     },
     "execution_count": 4,
     "metadata": {},
     "output_type": "execute_result"
    },
    {
     "data": {
      "image/png": "[encoded data removed]",
      "text/plain": [
       "<Figure size 720x720 with 1 Axes>"
      ]
     },
     "metadata": {
      "needs_background": "light"
     },
     "output_type": "display_data"
    }
   ],
   "source": [
    "# Read and preprocess template\n",
    "template = cv2.imread('testImages/equalSignTemplate.jpg')\n",
    "template = get_grayscale(template)\n",
    "length = template.shape[1]\n",
    "width = template.shape[0]\n",
    "\n",
    "# Resize template \n",
    "templateScale1 = cv2.resize(template, (15, 10))\n",
    "templateScale2 = cv2.resize(template, (30, 20))\n",
    "\n",
    "# Plot templates\n",
    "plt.figure(figsize=(10,10))\n",
    "plt.imshow(templateScale1, cmap='gray')\n"
   ]
  },
  {
   "cell_type": "code",
   "execution_count": 5,
   "id": "62ad1f7f",
   "metadata": {},
   "outputs": [],
   "source": [
    "# Template matching \n",
    "match = match_template(image, templateScale1)\n",
    "\n",
    "# Get highes likelihood box\n",
    "_minVal, _maxVal, minLoc, maxLoc = cv2.minMaxLoc(match, None)\n",
    "xMax = maxLoc[0]\n",
    "yMax = maxLoc[1]\n",
    "H, W = templateScale1.shape[:2]\n",
    "boxMax = (xMax, yMax, xMax + W, yMax + H)\n",
    "\n",
    "# Print most likely matching box only \n",
    "d = cv2.rectangle(imageCopy, (boxMax[0], boxMax[1]), (boxMax[2], boxMax[3]), (255, 0, 0), 3)"
   ]
  },
  {
   "cell_type": "code",
   "execution_count": null,
   "id": "e40330c7",
   "metadata": {},
   "outputs": [],
   "source": []
  },
  {
   "cell_type": "raw",
   "id": "fae68371",
   "metadata": {},
   "source": [
    "# Filter the found matches against a threshold \n",
    "thresh = 0.3\n",
    "H, W = templateScale1.shape[:2]\n",
    "\n",
    "# Select rectangles with\n",
    "# confidence greater than threshold\n",
    "(y_points, x_points) = np.where(match >= thresh)\n",
    "\n",
    "# initialize our list of bounding boxes\n",
    "boxes = list()\n",
    "\n",
    "# store coordinates of each bounding box\n",
    "for (x, y) in zip(x_points, y_points):\n",
    "    boxes.append((x, y, x + W, y + H))\n",
    "\n",
    "# Results\n",
    "print('Number of found bounding boxes: ', len(boxes))\n"
   ]
  },
  {
   "cell_type": "raw",
   "id": "0396860a",
   "metadata": {},
   "source": [
    "# apply non-maxima suppression to the rectangles\n",
    "# this will create a single bounding box\n",
    "boxes = non_max_suppression(np.array(boxes))\n",
    "  \n",
    "# loop over the final bounding boxes\n",
    "for (x1, y1, x2, y2) in boxes:\n",
    "    \n",
    "    # draw the bounding box on the image\n",
    "    cv2.rectangle(imageCopy, (x1, y1), (x2, y2),\n",
    "                  (255, 0, 0), 3)\n",
    "    \n",
    "print('Number of found boxes: ', len(boxes))"
   ]
  },
  {
   "cell_type": "code",
   "execution_count": 6,
   "id": "ab4ffa1d",
   "metadata": {},
   "outputs": [
    {
     "data": {
      "text/plain": [
       "<matplotlib.image.AxesImage at 0x11f4f4730>"
      ]
     },
     "execution_count": 6,
     "metadata": {},
     "output_type": "execute_result"
    },
    {
     "data": {
      "image/png": "[encoded data removed]",
      "text/plain": [
       "<Figure size 720x720 with 1 Axes>"
      ]
     },
     "metadata": {
      "needs_background": "light"
     },
     "output_type": "display_data"
    }
   ],
   "source": [
    "# Show the template and the final output\n",
    "plt.figure(figsize=(10,10))\n",
    "plt.imshow(imageCopy)\n",
    "\n"
   ]
  },
  {
   "cell_type": "code",
   "execution_count": null,
   "id": "d7909611",
   "metadata": {},
   "outputs": [],
   "source": []
  }
 ],
 "metadata": {
  "kernelspec": {
   "display_name": "Python 3 (ipykernel)",
   "language": "python",
   "name": "python3"
  },
  "language_info": {
   "codemirror_mode": {
    "name": "ipython",
    "version": 3
   },
   "file_extension": ".py",
   "mimetype": "text/x-python",
   "name": "python",
   "nbconvert_exporter": "python",
   "pygments_lexer": "ipython3",
   "version": "3.9.13"
  }
 },
 "nbformat": 4,
 "nbformat_minor": 5
}
